{
 "cells": [
  {
   "cell_type": "code",
   "execution_count": 2,
   "id": "3d8ced3e-f0ac-4bd5-8161-3d2ca37a618a",
   "metadata": {},
   "outputs": [
    {
     "ename": "ImportError",
     "evalue": "cannot import name 'multivariate_normality' from 'statsmodels.multivariate' (/home/crisi/miniconda3/envs/PR/lib/python3.9/site-packages/statsmodels/multivariate/__init__.py)",
     "output_type": "error",
     "traceback": [
      "\u001b[0;31m---------------------------------------------------------------------------\u001b[0m",
      "\u001b[0;31mImportError\u001b[0m                               Traceback (most recent call last)",
      "Cell \u001b[0;32mIn[2], line 5\u001b[0m\n\u001b[1;32m      3\u001b[0m \u001b[38;5;28;01mfrom\u001b[39;00m \u001b[38;5;21;01mscipy\u001b[39;00m\u001b[38;5;21;01m.\u001b[39;00m\u001b[38;5;21;01mstats\u001b[39;00m \u001b[38;5;28;01mimport\u001b[39;00m shapiro, kstest, norm\n\u001b[1;32m      4\u001b[0m \u001b[38;5;28;01mimport\u001b[39;00m \u001b[38;5;21;01mseaborn\u001b[39;00m \u001b[38;5;28;01mas\u001b[39;00m \u001b[38;5;21;01msns\u001b[39;00m\n\u001b[0;32m----> 5\u001b[0m \u001b[38;5;28;01mfrom\u001b[39;00m \u001b[38;5;21;01mstatsmodels\u001b[39;00m\u001b[38;5;21;01m.\u001b[39;00m\u001b[38;5;21;01mmultivariate\u001b[39;00m \u001b[38;5;28;01mimport\u001b[39;00m multivariate_normality\n",
      "\u001b[0;31mImportError\u001b[0m: cannot import name 'multivariate_normality' from 'statsmodels.multivariate' (/home/crisi/miniconda3/envs/PR/lib/python3.9/site-packages/statsmodels/multivariate/__init__.py)"
     ]
    }
   ],
   "source": [
    "import pandas as pd\n",
    "import matplotlib.pyplot as plt\n",
    "from scipy.stats import shapiro, kstest, norm\n",
    "import seaborn as sns\n",
    "from statsmodels.multivariate import multivariate_normality"
   ]
  },
  {
   "cell_type": "code",
   "execution_count": null,
   "id": "7f451088-aec3-49b3-b9b0-c2a369268a32",
   "metadata": {},
   "outputs": [],
   "source": [
    "# 选择图片和设置路径\n",
    "target = 2\n",
    "data_name = ['0618', '0854', '1066'][target - 1]\n",
    "# 读取数据\n",
    "data_path = f'../RGB_data/UniformSampler_{data_name}_3x3_multi_labelme.csv' \n",
    "df = pd.read_csv(data_path)"
   ]
  },
  {
   "cell_type": "code",
   "execution_count": null,
   "id": "38959ddd-1ae9-4a3f-aa48-62206f3cf4db",
   "metadata": {},
   "outputs": [],
   "source": [
    "# 1. 数据可视化\n",
    "# 绘制每个特征的直方图\n",
    "plt.figure(figsize=(20, 15))\n",
    "for i, column in enumerate(df.columns[:-1]):  # 排除最后一列的标签\n",
    "    plt.subplot(5, 6, i+1)\n",
    "    sns.histplot(df[column], kde=True)\n",
    "    plt.title(f'{column}')\n",
    "    plt.xlabel('')\n",
    "plt.suptitle('Feature Distributions')\n",
    "plt.tight_layout()\n",
    "plt.show()\n",
    "\n",
    "# 2. 多元正态性假设检验：判断整体特征数据是否为高斯分布\n",
    "alpha = 0.05  # 显著性水平\n",
    "\n",
    "# 使用 Royston's Test 进行多元正态性检验\n",
    "result = multivariate_normality(df.iloc[:, :-1], method='royston')  # 排除最后一列的标签\n",
    "print(\"Royston's test p-value:\", result.p_value)\n",
    "if result.p_value > alpha:\n",
    "    print(\"Result: The data follows a multivariate normal distribution.\")\n",
    "else:\n",
    "    print(\"Result: The data does not follow a multivariate normal distribution.\")\n"
   ]
  }
 ],
 "metadata": {
  "kernelspec": {
   "display_name": "Python 3 (ipykernel)",
   "language": "python",
   "name": "python3"
  },
  "language_info": {
   "codemirror_mode": {
    "name": "ipython",
    "version": 3
   },
   "file_extension": ".py",
   "mimetype": "text/x-python",
   "name": "python",
   "nbconvert_exporter": "python",
   "pygments_lexer": "ipython3",
   "version": "3.9.18"
  }
 },
 "nbformat": 4,
 "nbformat_minor": 5
}
