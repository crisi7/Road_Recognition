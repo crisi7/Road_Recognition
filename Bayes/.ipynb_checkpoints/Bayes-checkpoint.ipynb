{
 "cells": [
  {
   "cell_type": "code",
   "execution_count": 1,
   "id": "a3d77326-08f5-4578-8f06-1a59f344d888",
   "metadata": {},
   "outputs": [],
   "source": [
    "import pandas as pd\n",
    "import numpy as np\n",
    "import cv2\n",
    "from sklearn.naive_bayes import GaussianNB\n",
    "from sklearn.model_selection import train_test_split\n",
    "from sklearn.metrics import classification_report, confusion_matrix\n",
    "import matplotlib.pyplot as plt"
   ]
  },
  {
   "cell_type": "code",
   "execution_count": 2,
   "id": "9e616553-880f-48ba-bb2d-f5bad98dbd35",
   "metadata": {},
   "outputs": [],
   "source": [
    "# 选择图片和设置路径\n",
    "target = 1\n",
    "data_name = ['0618', '0854', '1066'][target - 1]\n",
    "\n",
    "data_path = f'../RGB_data/UniformSampler_{data_name}_3x3_multi_labelme.csv' #训练集\n",
    "pred_path = f'./result_img/pred_{data_name}.png' #模型预测结果二值图\n",
    "img_path = f'../input_data/{data_name}.png'  # 测试集\n",
    "binary_path = f'../input_data/{data_name}_label.png' #测试集评估用的二值图\n",
    "smoothed_path = f'./result_img/smoothed_pred_{data_name}.png' #光滑处理图片保存"
   ]
  },
  {
   "cell_type": "code",
   "execution_count": 3,
   "id": "530efca3-5039-43d6-a576-b61010f1e07f",
   "metadata": {},
   "outputs": [],
   "source": [
    "# 加载数据\n",
    "data = pd.read_csv(data_path)\n",
    "\n",
    "# 提取特征和标签\n",
    "features = data.drop(columns=['Label']).values  # 去掉标签列\n",
    "labels = data['Label'].values"
   ]
  },
  {
   "cell_type": "code",
   "execution_count": 4,
   "id": "d8f6b840-b4cb-4338-b62d-624bdda43be1",
   "metadata": {},
   "outputs": [],
   "source": [
    "#划分训练集和验证集\n",
    "X_train, X_val, y_train, y_val = train_test_split(features, labels,\n",
    "                                                  test_size=0.25, random_state=42)"
   ]
  },
  {
   "cell_type": "code",
   "execution_count": 5,
   "id": "9b6b4555-aa29-49f2-bd41-e2e20967a794",
   "metadata": {},
   "outputs": [
    {
     "name": "stdout",
     "output_type": "stream",
     "text": [
      "Validation dataset Evaluation:\n",
      "              precision    recall  f1-score   support\n",
      "\n",
      "  background       1.00      1.00      1.00       312\n",
      "          bg       0.00      0.00      0.00         1\n",
      "\n",
      "    accuracy                           1.00       313\n",
      "   macro avg       0.50      0.50      0.50       313\n",
      "weighted avg       0.99      1.00      1.00       313\n",
      "\n"
     ]
    },
    {
     "name": "stderr",
     "output_type": "stream",
     "text": [
      "/home/crisi/miniconda3/envs/PR/lib/python3.9/site-packages/sklearn/metrics/_classification.py:1531: UndefinedMetricWarning: Precision is ill-defined and being set to 0.0 in labels with no predicted samples. Use `zero_division` parameter to control this behavior.\n",
      "  _warn_prf(average, modifier, f\"{metric.capitalize()} is\", len(result))\n",
      "/home/crisi/miniconda3/envs/PR/lib/python3.9/site-packages/sklearn/metrics/_classification.py:1531: UndefinedMetricWarning: Precision is ill-defined and being set to 0.0 in labels with no predicted samples. Use `zero_division` parameter to control this behavior.\n",
      "  _warn_prf(average, modifier, f\"{metric.capitalize()} is\", len(result))\n",
      "/home/crisi/miniconda3/envs/PR/lib/python3.9/site-packages/sklearn/metrics/_classification.py:1531: UndefinedMetricWarning: Precision is ill-defined and being set to 0.0 in labels with no predicted samples. Use `zero_division` parameter to control this behavior.\n",
      "  _warn_prf(average, modifier, f\"{metric.capitalize()} is\", len(result))\n"
     ]
    },
    {
     "name": "stdout",
     "output_type": "stream",
     "text": [
      "Test Set Evaluation:\n"
     ]
    },
    {
     "ename": "ValueError",
     "evalue": "Mix of label input types (string and number)",
     "output_type": "error",
     "traceback": [
      "\u001b[0;31m---------------------------------------------------------------------------\u001b[0m",
      "\u001b[0;31mValueError\u001b[0m                                Traceback (most recent call last)",
      "Cell \u001b[0;32mIn[5], line 37\u001b[0m\n\u001b[1;32m     35\u001b[0m \u001b[38;5;66;03m# 6. 计算和打印测试集的评价指标\u001b[39;00m\n\u001b[1;32m     36\u001b[0m \u001b[38;5;28mprint\u001b[39m(\u001b[38;5;124m\"\u001b[39m\u001b[38;5;124mTest Set Evaluation:\u001b[39m\u001b[38;5;124m\"\u001b[39m)\n\u001b[0;32m---> 37\u001b[0m \u001b[38;5;28mprint\u001b[39m(\u001b[43mclassification_report\u001b[49m\u001b[43m(\u001b[49m\u001b[43mtest_labels\u001b[49m\u001b[43m,\u001b[49m\u001b[43m \u001b[49m\u001b[43my_test_pred\u001b[49m\u001b[43m)\u001b[49m)\n\u001b[1;32m     39\u001b[0m \u001b[38;5;66;03m# 7. 计算混淆矩阵\u001b[39;00m\n\u001b[1;32m     40\u001b[0m conf_matrix \u001b[38;5;241m=\u001b[39m confusion_matrix(test_labels, y_test_pred)\n",
      "File \u001b[0;32m~/miniconda3/envs/PR/lib/python3.9/site-packages/sklearn/utils/_param_validation.py:213\u001b[0m, in \u001b[0;36mvalidate_params.<locals>.decorator.<locals>.wrapper\u001b[0;34m(*args, **kwargs)\u001b[0m\n\u001b[1;32m    207\u001b[0m \u001b[38;5;28;01mtry\u001b[39;00m:\n\u001b[1;32m    208\u001b[0m     \u001b[38;5;28;01mwith\u001b[39;00m config_context(\n\u001b[1;32m    209\u001b[0m         skip_parameter_validation\u001b[38;5;241m=\u001b[39m(\n\u001b[1;32m    210\u001b[0m             prefer_skip_nested_validation \u001b[38;5;129;01mor\u001b[39;00m global_skip_validation\n\u001b[1;32m    211\u001b[0m         )\n\u001b[1;32m    212\u001b[0m     ):\n\u001b[0;32m--> 213\u001b[0m         \u001b[38;5;28;01mreturn\u001b[39;00m \u001b[43mfunc\u001b[49m\u001b[43m(\u001b[49m\u001b[38;5;241;43m*\u001b[39;49m\u001b[43margs\u001b[49m\u001b[43m,\u001b[49m\u001b[43m \u001b[49m\u001b[38;5;241;43m*\u001b[39;49m\u001b[38;5;241;43m*\u001b[39;49m\u001b[43mkwargs\u001b[49m\u001b[43m)\u001b[49m\n\u001b[1;32m    214\u001b[0m \u001b[38;5;28;01mexcept\u001b[39;00m InvalidParameterError \u001b[38;5;28;01mas\u001b[39;00m e:\n\u001b[1;32m    215\u001b[0m     \u001b[38;5;66;03m# When the function is just a wrapper around an estimator, we allow\u001b[39;00m\n\u001b[1;32m    216\u001b[0m     \u001b[38;5;66;03m# the function to delegate validation to the estimator, but we replace\u001b[39;00m\n\u001b[1;32m    217\u001b[0m     \u001b[38;5;66;03m# the name of the estimator by the name of the function in the error\u001b[39;00m\n\u001b[1;32m    218\u001b[0m     \u001b[38;5;66;03m# message to avoid confusion.\u001b[39;00m\n\u001b[1;32m    219\u001b[0m     msg \u001b[38;5;241m=\u001b[39m re\u001b[38;5;241m.\u001b[39msub(\n\u001b[1;32m    220\u001b[0m         \u001b[38;5;124mr\u001b[39m\u001b[38;5;124m\"\u001b[39m\u001b[38;5;124mparameter of \u001b[39m\u001b[38;5;124m\\\u001b[39m\u001b[38;5;124mw+ must be\u001b[39m\u001b[38;5;124m\"\u001b[39m,\n\u001b[1;32m    221\u001b[0m         \u001b[38;5;124mf\u001b[39m\u001b[38;5;124m\"\u001b[39m\u001b[38;5;124mparameter of \u001b[39m\u001b[38;5;132;01m{\u001b[39;00mfunc\u001b[38;5;241m.\u001b[39m\u001b[38;5;18m__qualname__\u001b[39m\u001b[38;5;132;01m}\u001b[39;00m\u001b[38;5;124m must be\u001b[39m\u001b[38;5;124m\"\u001b[39m,\n\u001b[1;32m    222\u001b[0m         \u001b[38;5;28mstr\u001b[39m(e),\n\u001b[1;32m    223\u001b[0m     )\n",
      "File \u001b[0;32m~/miniconda3/envs/PR/lib/python3.9/site-packages/sklearn/metrics/_classification.py:2629\u001b[0m, in \u001b[0;36mclassification_report\u001b[0;34m(y_true, y_pred, labels, target_names, sample_weight, digits, output_dict, zero_division)\u001b[0m\n\u001b[1;32m   2626\u001b[0m y_type, y_true, y_pred \u001b[38;5;241m=\u001b[39m _check_targets(y_true, y_pred)\n\u001b[1;32m   2628\u001b[0m \u001b[38;5;28;01mif\u001b[39;00m labels \u001b[38;5;129;01mis\u001b[39;00m \u001b[38;5;28;01mNone\u001b[39;00m:\n\u001b[0;32m-> 2629\u001b[0m     labels \u001b[38;5;241m=\u001b[39m \u001b[43munique_labels\u001b[49m\u001b[43m(\u001b[49m\u001b[43my_true\u001b[49m\u001b[43m,\u001b[49m\u001b[43m \u001b[49m\u001b[43my_pred\u001b[49m\u001b[43m)\u001b[49m\n\u001b[1;32m   2630\u001b[0m     labels_given \u001b[38;5;241m=\u001b[39m \u001b[38;5;28;01mFalse\u001b[39;00m\n\u001b[1;32m   2631\u001b[0m \u001b[38;5;28;01melse\u001b[39;00m:\n",
      "File \u001b[0;32m~/miniconda3/envs/PR/lib/python3.9/site-packages/sklearn/utils/multiclass.py:114\u001b[0m, in \u001b[0;36munique_labels\u001b[0;34m(*ys)\u001b[0m\n\u001b[1;32m    112\u001b[0m \u001b[38;5;66;03m# Check that we don't mix string type with number type\u001b[39;00m\n\u001b[1;32m    113\u001b[0m \u001b[38;5;28;01mif\u001b[39;00m \u001b[38;5;28mlen\u001b[39m(\u001b[38;5;28mset\u001b[39m(\u001b[38;5;28misinstance\u001b[39m(label, \u001b[38;5;28mstr\u001b[39m) \u001b[38;5;28;01mfor\u001b[39;00m label \u001b[38;5;129;01min\u001b[39;00m ys_labels)) \u001b[38;5;241m>\u001b[39m \u001b[38;5;241m1\u001b[39m:\n\u001b[0;32m--> 114\u001b[0m     \u001b[38;5;28;01mraise\u001b[39;00m \u001b[38;5;167;01mValueError\u001b[39;00m(\u001b[38;5;124m\"\u001b[39m\u001b[38;5;124mMix of label input types (string and number)\u001b[39m\u001b[38;5;124m\"\u001b[39m)\n\u001b[1;32m    116\u001b[0m \u001b[38;5;28;01mreturn\u001b[39;00m xp\u001b[38;5;241m.\u001b[39masarray(\u001b[38;5;28msorted\u001b[39m(ys_labels))\n",
      "\u001b[0;31mValueError\u001b[0m: Mix of label input types (string and number)"
     ]
    }
   ],
   "source": [
    "#训练朴素贝叶斯分类器\n",
    "gnb = GaussianNB()\n",
    "gnb.fit(X_train, y_train)\n",
    "\n",
    "#在验证集上进行预测并做评估\n",
    "y_val_pred = gnb.predict(X_val)\n",
    "print(\"Validation dataset Evaluation:\")\n",
    "print(classification_report(y_val, y_val_pred))\n",
    "\n",
    "#在测试集上进行预测并评估（即对图像进行分割）\n",
    "#加载原始图像作为测试集\n",
    "img = cv2.imread(img_path)\n",
    "height, width, _ = img.shape\n",
    "\n",
    "# 准备特征矩阵\n",
    "test_features = []\n",
    "\n",
    "# 提取3x3块的特征\n",
    "for y in range(1, height - 1):\n",
    "    for x in range(1, width - 1):\n",
    "        # 提取3x3区域的BGR值\n",
    "        feature_vector = img[y-1:y+2, x-1:x+2].flatten()\n",
    "        test_features.append(feature_vector)\n",
    "\n",
    "# 将特征列表转换为NumPy数组\n",
    "test_features_array = np.array(test_features)\n",
    "\n",
    "#在测试集上预测\n",
    "y_test_pred = gnb.predict(test_features_array)\n",
    "\n",
    "#进行二值化并作评估\n",
    "binary_img = cv2.imread(binary_path, cv2.IMREAD_GRAYSCALE)\n",
    "test_labels = binary_img[1:-1, 1:-1].flatten() // 255\n",
    "\n",
    "# 计算和打印测试集的评价指标\n",
    "print(\"Test Set Evaluation:\")\n",
    "print(classification_report(test_labels, y_test_pred))\n",
    "\n",
    "# 计算混淆矩阵\n",
    "conf_matrix = confusion_matrix(test_labels, y_test_pred)\n",
    "print(\"Confusion Matrix:\")\n",
    "print(conf_matrix)\n",
    "\n",
    "# 准备二值化预测图像\n",
    "segmented_img = np.zeros((height, width), dtype=np.uint8)\n",
    "segmented_img[1:-1, 1:-1] = y_test_pred.reshape(height - 2, width - 2) * 255  # 二值化\n",
    "\n",
    "cv2.imwrite(pred_path, segmented_img)\n",
    "\n",
    "# 显示原图和预测结果\n",
    "plt.figure(figsize=(12, 6))\n",
    "\n",
    "# 显示原图\n",
    "plt.subplot(1, 2, 1)\n",
    "plt.imshow(cv2.cvtColor(img, cv2.COLOR_BGR2RGB))\n",
    "plt.title('Original Image')\n",
    "plt.axis('off')\n",
    "\n",
    "# 显示预测的二值图\n",
    "plt.subplot(1, 2, 2)\n",
    "plt.imshow(segmented_img, cmap='gray')\n",
    "plt.title('Predicted Binary Image')\n",
    "plt.axis('off')\n",
    "\n",
    "# 显示图像\n",
    "plt.show()"
   ]
  },
  {
   "cell_type": "code",
   "execution_count": null,
   "id": "3df752ba-eb85-4c4d-94d4-49126adb79e1",
   "metadata": {},
   "outputs": [],
   "source": [
    "# 读取二值化图像\n",
    "binary_img_path = f'./result_img/pred_{data_name}.png'  # 你的二值化图像路径\n",
    "binary_img = cv2.imread(binary_img_path, cv2.IMREAD_GRAYSCALE)\n",
    "\n",
    "# 设定结构元素大小\n",
    "kernel_size = 5  # 可以根据需要调整大小\n",
    "kernel = np.ones((kernel_size, kernel_size), np.uint8)\n",
    "\n",
    "# 进行形态学开运算\n",
    "smoothed_img = cv2.morphologyEx(binary_img, cv2.MORPH_OPEN, kernel)\n",
    "\n",
    "# 将平滑后的二值图进行评估\n",
    "# 提取标签\n",
    "original_labels = binary_img[1:-1, 1:-1].flatten() // 255  # 原始标签\n",
    "smoothed_pred = smoothed_img[1:-1, 1:-1].flatten() // 255  # 平滑后的预测图\n",
    "\n",
    "# 确保两个数组的长度一致\n",
    "if original_labels.shape[0] != smoothed_pred.shape[0]:\n",
    "    print(f\"Warning: Shapes mismatch! Original: {original_labels.shape[0]}, Smoothed: {smoothed_pred.shape[0]}\")\n",
    "\n",
    "# 计算和打印平滑后的评价指标\n",
    "print(\"Smoothed Image Evaluation:\")\n",
    "print(classification_report(original_labels, smoothed_pred))\n",
    "\n",
    "# 计算混淆矩阵\n",
    "smoothed_conf_matrix = confusion_matrix(original_labels, smoothed_pred)\n",
    "print(\"Smoothed Confusion Matrix:\")\n",
    "print(smoothed_conf_matrix)\n",
    "\n",
    "# 显示原始二值图与处理后的图像\n",
    "plt.figure(figsize=(10, 5))\n",
    "\n",
    "# 显示原始二值图\n",
    "plt.subplot(1, 2, 1)\n",
    "plt.imshow(binary_img, cmap='gray')\n",
    "plt.title('Original Binary Image')\n",
    "plt.axis('off')\n",
    "\n",
    "# 显示平滑后的图像\n",
    "plt.subplot(1, 2, 2)\n",
    "plt.imshow(smoothed_img, cmap='gray')\n",
    "plt.title('Smoothed Image (Morphological Opening)')\n",
    "plt.axis('off')\n",
    "\n",
    "plt.show()\n",
    "\n",
    "# 保存平滑后的图像\n",
    "cv2.imwrite(smoothed_path, smoothed_img)"
   ]
  },
  {
   "cell_type": "code",
   "execution_count": null,
   "id": "f9ace795-9a31-49e8-884d-3cabd80e9d47",
   "metadata": {},
   "outputs": [],
   "source": []
  }
 ],
 "metadata": {
  "kernelspec": {
   "display_name": "Python 3 (ipykernel)",
   "language": "python",
   "name": "python3"
  },
  "language_info": {
   "codemirror_mode": {
    "name": "ipython",
    "version": 3
   },
   "file_extension": ".py",
   "mimetype": "text/x-python",
   "name": "python",
   "nbconvert_exporter": "python",
   "pygments_lexer": "ipython3",
   "version": "3.9.18"
  }
 },
 "nbformat": 4,
 "nbformat_minor": 5
}
