{
 "cells": [
  {
   "cell_type": "code",
   "execution_count": 4,
   "id": "ae97da5f-9d1b-4bdd-9094-6bb4f83dbf02",
   "metadata": {},
   "outputs": [
    {
     "data": {
      "image/png": "[encoded data removed]",
      "text/plain": [
       "<Figure size 640x480 with 2 Axes>"
      ]
     },
     "metadata": {},
     "output_type": "display_data"
    },
    {
     "name": "stdout",
     "output_type": "stream",
     "text": [
      "标签矩阵已保存\n"
     ]
    }
   ],
   "source": [
    "import json\n",
    "import numpy as np\n",
    "import cv2\n",
    "def generate_label_matrix(json_file, image_shape, label_map):\n",
    "    \"\"\"\n",
    "    根据标注的 JSON 文件生成标签矩阵，将标签从文字转换为数字。\n",
    "    :param json_file: LabelMe 标注的 JSON 文件路径\n",
    "    :param image_shape: 图像的尺寸 (height, width)\n",
    "    :param label_map: 字典，将文本标签映射为数字标签\n",
    "    :return: 一个与图像大小相同的标签矩阵\n",
    "    \"\"\"\n",
    "    # 创建一个与图像大小相同的矩阵，初始化为0（背景）\n",
    "    label_matrix = np.zeros(image_shape, dtype=np.int32)\n",
    "\n",
    "    # 读取 JSON 文件\n",
    "    with open(json_file, 'r') as f:\n",
    "        data = json.load(f)\n",
    "\n",
    "    # 解析 JSON 中的每个多边形并填充标签矩阵\n",
    "    for shape in data['shapes']:\n",
    "        label = shape['label']  # 标签是字符串\n",
    "        if label in label_map:\n",
    "            label = label_map[label]  # 将字符串标签转换为数字标签\n",
    "        else:\n",
    "            label = 0  # 如果标签没有在映射字典中，设置为背景（默认值0）\n",
    "\n",
    "        # 获取多边形的点\n",
    "        points = np.array(shape['points'], dtype=np.int32)\n",
    "        \n",
    "        # 创建一个黑白图像（背景为0，前景为白色），用来做多边形填充\n",
    "        mask = np.zeros(image_shape, dtype=np.uint8)\n",
    "        \n",
    "        # 使用填充函数，将多边形区域填充为白色（值为255）\n",
    "        cv2.fillPoly(mask, [points], 255)\n",
    "\n",
    "        # 将多边形区域对应的 label 值填入标签矩阵\n",
    "        label_matrix[mask == 255] = label\n",
    "\n",
    "    return label_matrix\n",
    "\n",
    "target = 3\n",
    "data_name = ['0618', '0854', '1066'][target - 1]\n",
    "\n",
    "# 示例用法\n",
    "label_map = {'road': 1, 'building': 2, 'water': 3}  # 字符串标签到数字标签的映射\n",
    "image_shape = (500, 250)  # 图像尺寸\n",
    "json_file = f'./input_data/{data_name}.json'  # JSON 文件路径\n",
    "\n",
    "# 生成标签矩阵\n",
    "label_matrix = generate_label_matrix(json_file, image_shape, label_map)\n",
    "\n",
    "# 可视化标签矩阵（如果需要查看标签分布）\n",
    "import matplotlib.pyplot as plt\n",
    "plt.imshow(label_matrix, cmap='tab10')  # 使用 'tab10' 色图显示不同标签\n",
    "plt.colorbar()\n",
    "plt.show()\n",
    "\n",
    "# 保存标签矩阵到文件\n",
    "np.save(f'./input_data/{data_name}.npy', label_matrix)\n",
    "print(\"标签矩阵已保存\")"
   ]
  },
  {
   "cell_type": "code",
   "execution_count": null,
   "id": "caf93bf3-5177-4d10-bbf2-ff2fcf0b4bde",
   "metadata": {},
   "outputs": [],
   "source": []
  }
 ],
 "metadata": {
  "kernelspec": {
   "display_name": "Python 3 (ipykernel)",
   "language": "python",
   "name": "python3"
  },
  "language_info": {
   "codemirror_mode": {
    "name": "ipython",
    "version": 3
   },
   "file_extension": ".py",
   "mimetype": "text/x-python",
   "name": "python",
   "nbconvert_exporter": "python",
   "pygments_lexer": "ipython3",
   "version": "3.9.20"
  }
 },
 "nbformat": 4,
 "nbformat_minor": 5
}
