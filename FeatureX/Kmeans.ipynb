{
 "cells": [
  {
   "cell_type": "code",
   "execution_count": 1,
   "id": "2c9fc350-240c-4a2b-875c-711b5a7d12da",
   "metadata": {},
   "outputs": [],
   "source": [
    "import numpy as np\n",
    "import matplotlib.pyplot as plt\n",
    "from sklearn.cluster import KMeans\n",
    "from sklearn.metrics import silhouette_score"
   ]
  },
  {
   "cell_type": "markdown",
   "id": "ae8822a1-dee1-4503-9f1f-93e0600483f1",
   "metadata": {},
   "source": [
    "选取数据"
   ]
  },
  {
   "cell_type": "code",
   "execution_count": 2,
   "id": "4b9ca0db-ba00-444e-a400-e24174624047",
   "metadata": {},
   "outputs": [],
   "source": [
    "target = 3\n",
    "data_name = ['0618', '0854', '1066'][target - 1]"
   ]
  },
  {
   "cell_type": "markdown",
   "id": "ac7a9127-2b62-47f7-86ac-2e683637d07f",
   "metadata": {},
   "source": [
    "采用Elbow方法选取最优C值"
   ]
  },
  {
   "cell_type": "code",
   "execution_count": 30,
   "id": "c6c2705c-349d-44da-b2ff-c19e94b5bd65",
   "metadata": {},
   "outputs": [],
   "source": [
    "def optimal_c_value(features, max_c=15):\n",
    "    # max_c=10-15基本可以满足大部分特征这也是Elbow的上限\n",
    "    \n",
    "    sse = []  # 存储SSE（聚类内误差平方和）\n",
    "    silhouette_scores = []  # 存储轮廓系数，用于聚类效果评估越大效果越好\n",
    "\n",
    "    # 计算不同C值下的SSE和轮廓系数\n",
    "    for c in range(2, max_c + 1): # C从2取到max_c\n",
    "        kmeans = KMeans(n_clusters=c, random_state=42)\n",
    "        kmeans.fit(features)\n",
    "        sse.append(kmeans.inertia_) #读取当前聚类的SSE存入列表\n",
    "        silhouette_scores.append(silhouette_score(features, kmeans.labels_))\n",
    "\n",
    "    # # 绘制Elbow图和轮廓系数图\n",
    "    # plt.figure(figsize=(12, 5))\n",
    "    \n",
    "    # # Elbow图\n",
    "    # plt.subplot(1, 2, 1)\n",
    "    # plt.plot(range(2, max_c + 1), sse, marker='o')\n",
    "    # plt.xlabel(\"C-value\")\n",
    "    # plt.ylabel(\"SSE\")\n",
    "    # plt.title(\"Elbow search optimal C-value\")\n",
    "    \n",
    "    # # 轮廓系数图\n",
    "    # plt.subplot(1, 2, 2)\n",
    "    # plt.plot(range(2, max_c + 1), silhouette_scores, marker='o')\n",
    "    # plt.xlabel(\"C-value\")\n",
    "    # plt.ylabel(\"silhouette scores\")\n",
    "    # plt.title(\"silhouette scores search optimal C-value\")\n",
    "\n",
    "    # plt.show()\n",
    "\n",
    "    # 选取拐点（Elbow法）或轮廓系数最大的C值\n",
    "    optimal_c = 2 + np.argmax(silhouette_scores)  # 最佳C值\n",
    "    return optimal_c"
   ]
  },
  {
   "cell_type": "markdown",
   "id": "b41addab-cb60-4973-a96f-7fe57f12cd31",
   "metadata": {},
   "source": [
    "Kmeans实现和评价指标"
   ]
  },
  {
   "cell_type": "code",
   "execution_count": 31,
   "id": "6825a8bb-ddcd-4fa8-8694-c9f6ca09147b",
   "metadata": {},
   "outputs": [],
   "source": [
    "from sklearn.decomposition import PCA\n",
    "from sklearn.manifold import TSNE\n",
    "\n",
    "def Kmeans(features, optimal_c):\n",
    "    print(features.shape)\n",
    "    kmeans = KMeans(n_clusters=optimal_c, random_state=0)\n",
    "    labels = kmeans.fit_predict(features)\n",
    "\n",
    "    centroids = kmeans.cluster_centers_\n",
    "\n",
    "    with_d, between_d, cluster_socre = cluster_eval(features, labels, optimal_c, centroids)\n",
    "    print('类内间距: ', with_d)\n",
    "    print('类外间距: ', between_d)\n",
    "    print('聚类效果评价参数: ', cluster_socre) \n",
    "\n",
    "    return kmeans, labels\n",
    "\n",
    "def cluster_eval(data, labels, optimal_c, centroids):\n",
    "    K = optimal_c\n",
    "\n",
    "    # 计算类内间距\n",
    "    within_distances = []\n",
    "    for i in range(K):\n",
    "        cluster_points = data[labels == i]\n",
    "        centroid = centroids[i]\n",
    "\n",
    "        distance = np.sum(np.linalg.norm(cluster_points - centroid, axis=1))\n",
    "        within_distances.append(distance)\n",
    "\n",
    "    total_within_distance = np.mean(within_distances)\n",
    "\n",
    "    # 计算类外间距\n",
    "    between_distances = []\n",
    "    for i in range(K):\n",
    "        for j in range(i + 1, K):\n",
    "            distance = np.linalg.norm(centroids[i] - centroids[j])\n",
    "            between_distances.append(distance)\n",
    "    total_between_distance = np.mean(between_distances)\n",
    "\n",
    "    cluster_socre = total_between_distance / total_within_distance\n",
    "\n",
    "    return total_within_distance, total_between_distance, cluster_socre"
   ]
  },
  {
   "cell_type": "markdown",
   "id": "e0c68e02-4c7c-43be-9b0e-c6f3939d4043",
   "metadata": {},
   "source": [
    "寻求最优C值并进行聚类分析"
   ]
  },
  {
   "cell_type": "code",
   "execution_count": 47,
   "id": "6b5c7a56-1258-48cf-ac7a-600c6c34f84c",
   "metadata": {},
   "outputs": [
    {
     "name": "stdout",
     "output_type": "stream",
     "text": [
      "(1250, 3)\n",
      "(1250, 3)\n",
      "(1250, 27)\n",
      "(1250, 27)\n",
      "(3326400, 1)\n",
      "(512, 1)\n"
     ]
    }
   ],
   "source": [
    "features_bgr1x1 = np.load(f'./Features/{data_name}_BGR1x1_featuers.npy')  \n",
    "features_hsv1x1 = np.load(f'./Features/{data_name}_HSV1x1_features.npy')\n",
    "features_bgr3x3 = np.load(f'./Features/{data_name}_BGR3x3_featuers.npy')  \n",
    "features_hsv3x3 = np.load(f'./Features/{data_name}_HSV3x3_features.npy')  \n",
    "features_hog    = np.load(f'./Features/{data_name}_hog_featuers.npy').squeeze().reshape(-1, 1)\n",
    "features_resnet = np.load(f'./Features/{data_name}_NN_features.npy').squeeze().reshape(-1, 1)\n",
    "print(features_bgr1x1.shape)\n",
    "print(features_hsv1x1.shape)\n",
    "print(features_bgr3x3.shape)\n",
    "print(features_hsv3x3.shape)\n",
    "print(features_hog.shape)\n",
    "print(features_resnet.shape)"
   ]
  },
  {
   "cell_type": "code",
   "execution_count": 48,
   "id": "ef9a04e2-9a06-4a91-9d08-a57f2c3a7db5",
   "metadata": {},
   "outputs": [
    {
     "name": "stdout",
     "output_type": "stream",
     "text": [
      "BGR1x1特征聚类分析:\n",
      "(1250, 3)\n",
      "类内间距:  35715.25068469604\n",
      "类外间距:  282.26452270772035\n",
      "聚类效果评价参数:  0.007903193098086542\n",
      "optimal C-value with BGR1x1: 2\n"
     ]
    }
   ],
   "source": [
    "print(\"BGR1x1特征聚类分析:\")\n",
    "optimal_c_bgr1x1 = optimal_c_value(features_bgr1x1)\n",
    "kmeans_bgr1x1, labels_bgr1x1 = Kmeans(features_bgr1x1, optimal_c_bgr1x1)\n",
    "print(f\"optimal C-value with BGR1x1: {optimal_c_bgr1x1}\")"
   ]
  },
  {
   "cell_type": "code",
   "execution_count": 49,
   "id": "2ca1e4da-8344-4193-8db5-d36560440d24",
   "metadata": {},
   "outputs": [
    {
     "name": "stdout",
     "output_type": "stream",
     "text": [
      "HSV1x1特征聚类分析:\n",
      "(1250, 3)\n",
      "类内间距:  35715.25068469604\n",
      "类外间距:  282.26452270772035\n",
      "聚类效果评价参数:  0.007903193098086542\n",
      "optimal C-value with HSV1x1: 2\n"
     ]
    }
   ],
   "source": [
    "print(\"HSV1x1特征聚类分析:\")\n",
    "optimal_c_bgr1x1 = optimal_c_value(features_bgr1x1)\n",
    "kmeans_bgr1x1, labels_bgr1x1 = Kmeans(features_bgr1x1, optimal_c_bgr1x1)\n",
    "print(f\"optimal C-value with HSV1x1: {optimal_c_bgr1x1}\")"
   ]
  },
  {
   "cell_type": "code",
   "execution_count": 50,
   "id": "accf3f50-5872-4ac1-a937-746a6f02260e",
   "metadata": {},
   "outputs": [
    {
     "name": "stdout",
     "output_type": "stream",
     "text": [
      "BGR3x3特征聚类分析:\n",
      "(1250, 27)\n",
      "类内间距:  109643.29206397198\n",
      "类外间距:  841.3027634722698\n",
      "聚类效果评价参数:  0.00767308922994949\n",
      "optimal C-value with BGR3x3: 2\n"
     ]
    }
   ],
   "source": [
    "print(\"BGR3x3特征聚类分析:\")\n",
    "optimal_c_bgr3x3 = optimal_c_value(features_bgr3x3)\n",
    "kmeans_bgr3x3, labels_bgr3x3 = Kmeans(features_bgr3x3, optimal_c_bgr3x3)\n",
    "print(f\"optimal C-value with BGR3x3: {optimal_c_bgr3x3}\")"
   ]
  },
  {
   "cell_type": "code",
   "execution_count": 51,
   "id": "33285a66-aaaa-49cc-aecf-6c254b4cdf8e",
   "metadata": {},
   "outputs": [
    {
     "name": "stdout",
     "output_type": "stream",
     "text": [
      "HSV3x3特征聚类分析:\n",
      "(1250, 27)\n",
      "类内间距:  91935.81550013072\n",
      "类外间距:  498.10088989893916\n",
      "聚类效果评价参数:  0.0054179199606733345\n",
      "optimal C-value with HSV3x3: 2\n"
     ]
    }
   ],
   "source": [
    "print(\"HSV3x3特征聚类分析:\")\n",
    "optimal_c_hsv3x3 = optimal_c_value(features_hsv3x3)\n",
    "kmeans_hsv3x3, labels_hsv3x3 = Kmeans(features_hsv3x3, optimal_c_hsv3x3)\n",
    "print(f\"optimal C-value with HSV3x3: {optimal_c_hsv3x3}\")"
   ]
  },
  {
   "cell_type": "code",
   "execution_count": 52,
   "id": "761afcc2-5918-47a3-b9f0-6ef2df5dda6a",
   "metadata": {},
   "outputs": [
    {
     "name": "stdout",
     "output_type": "stream",
     "text": [
      "HOG特征聚类分析:\n"
     ]
    },
    {
     "ename": "KeyboardInterrupt",
     "evalue": "",
     "output_type": "error",
     "traceback": [
      "\u001b[0;31m---------------------------------------------------------------------------\u001b[0m",
      "\u001b[0;31mKeyboardInterrupt\u001b[0m                         Traceback (most recent call last)",
      "Cell \u001b[0;32mIn[52], line 2\u001b[0m\n\u001b[1;32m      1\u001b[0m \u001b[38;5;28mprint\u001b[39m(\u001b[38;5;124m\"\u001b[39m\u001b[38;5;124mHOG特征聚类分析:\u001b[39m\u001b[38;5;124m\"\u001b[39m)\n\u001b[0;32m----> 2\u001b[0m optimal_c_hog \u001b[38;5;241m=\u001b[39m \u001b[43moptimal_c_value\u001b[49m\u001b[43m(\u001b[49m\u001b[43mfeatures_hog\u001b[49m\u001b[43m)\u001b[49m\n\u001b[1;32m      3\u001b[0m kmeans_hog, labels_hog \u001b[38;5;241m=\u001b[39m Kmeans(features_hog, optimal_c_hog)\n\u001b[1;32m      4\u001b[0m \u001b[38;5;28mprint\u001b[39m(\u001b[38;5;124mf\u001b[39m\u001b[38;5;124m\"\u001b[39m\u001b[38;5;124moptimal C-value with Resnet: \u001b[39m\u001b[38;5;132;01m{\u001b[39;00moptimal_c_resnet\u001b[38;5;132;01m}\u001b[39;00m\u001b[38;5;124m\"\u001b[39m)\n",
      "Cell \u001b[0;32mIn[30], line 12\u001b[0m, in \u001b[0;36moptimal_c_value\u001b[0;34m(features, max_c)\u001b[0m\n\u001b[1;32m     10\u001b[0m     kmeans\u001b[38;5;241m.\u001b[39mfit(features)\n\u001b[1;32m     11\u001b[0m     sse\u001b[38;5;241m.\u001b[39mappend(kmeans\u001b[38;5;241m.\u001b[39minertia_) \u001b[38;5;66;03m#读取当前聚类的SSE存入列表\u001b[39;00m\n\u001b[0;32m---> 12\u001b[0m     silhouette_scores\u001b[38;5;241m.\u001b[39mappend(\u001b[43msilhouette_score\u001b[49m\u001b[43m(\u001b[49m\u001b[43mfeatures\u001b[49m\u001b[43m,\u001b[49m\u001b[43m \u001b[49m\u001b[43mkmeans\u001b[49m\u001b[38;5;241;43m.\u001b[39;49m\u001b[43mlabels_\u001b[49m\u001b[43m)\u001b[49m)\n\u001b[1;32m     14\u001b[0m \u001b[38;5;66;03m# # 绘制Elbow图和轮廓系数图\u001b[39;00m\n\u001b[1;32m     15\u001b[0m \u001b[38;5;66;03m# plt.figure(figsize=(12, 5))\u001b[39;00m\n\u001b[1;32m     16\u001b[0m \n\u001b[0;32m   (...)\u001b[0m\n\u001b[1;32m     32\u001b[0m \n\u001b[1;32m     33\u001b[0m \u001b[38;5;66;03m# 选取拐点（Elbow法）或轮廓系数最大的C值\u001b[39;00m\n\u001b[1;32m     34\u001b[0m optimal_c \u001b[38;5;241m=\u001b[39m \u001b[38;5;241m2\u001b[39m \u001b[38;5;241m+\u001b[39m np\u001b[38;5;241m.\u001b[39margmax(silhouette_scores)  \u001b[38;5;66;03m# 最佳C值\u001b[39;00m\n",
      "File \u001b[0;32m~/miniconda3/envs/PR/lib/python3.9/site-packages/sklearn/utils/_param_validation.py:213\u001b[0m, in \u001b[0;36mvalidate_params.<locals>.decorator.<locals>.wrapper\u001b[0;34m(*args, **kwargs)\u001b[0m\n\u001b[1;32m    207\u001b[0m \u001b[38;5;28;01mtry\u001b[39;00m:\n\u001b[1;32m    208\u001b[0m     \u001b[38;5;28;01mwith\u001b[39;00m config_context(\n\u001b[1;32m    209\u001b[0m         skip_parameter_validation\u001b[38;5;241m=\u001b[39m(\n\u001b[1;32m    210\u001b[0m             prefer_skip_nested_validation \u001b[38;5;129;01mor\u001b[39;00m global_skip_validation\n\u001b[1;32m    211\u001b[0m         )\n\u001b[1;32m    212\u001b[0m     ):\n\u001b[0;32m--> 213\u001b[0m         \u001b[38;5;28;01mreturn\u001b[39;00m \u001b[43mfunc\u001b[49m\u001b[43m(\u001b[49m\u001b[38;5;241;43m*\u001b[39;49m\u001b[43margs\u001b[49m\u001b[43m,\u001b[49m\u001b[43m \u001b[49m\u001b[38;5;241;43m*\u001b[39;49m\u001b[38;5;241;43m*\u001b[39;49m\u001b[43mkwargs\u001b[49m\u001b[43m)\u001b[49m\n\u001b[1;32m    214\u001b[0m \u001b[38;5;28;01mexcept\u001b[39;00m InvalidParameterError \u001b[38;5;28;01mas\u001b[39;00m e:\n\u001b[1;32m    215\u001b[0m     \u001b[38;5;66;03m# When the function is just a wrapper around an estimator, we allow\u001b[39;00m\n\u001b[1;32m    216\u001b[0m     \u001b[38;5;66;03m# the function to delegate validation to the estimator, but we replace\u001b[39;00m\n\u001b[1;32m    217\u001b[0m     \u001b[38;5;66;03m# the name of the estimator by the name of the function in the error\u001b[39;00m\n\u001b[1;32m    218\u001b[0m     \u001b[38;5;66;03m# message to avoid confusion.\u001b[39;00m\n\u001b[1;32m    219\u001b[0m     msg \u001b[38;5;241m=\u001b[39m re\u001b[38;5;241m.\u001b[39msub(\n\u001b[1;32m    220\u001b[0m         \u001b[38;5;124mr\u001b[39m\u001b[38;5;124m\"\u001b[39m\u001b[38;5;124mparameter of \u001b[39m\u001b[38;5;124m\\\u001b[39m\u001b[38;5;124mw+ must be\u001b[39m\u001b[38;5;124m\"\u001b[39m,\n\u001b[1;32m    221\u001b[0m         \u001b[38;5;124mf\u001b[39m\u001b[38;5;124m\"\u001b[39m\u001b[38;5;124mparameter of \u001b[39m\u001b[38;5;132;01m{\u001b[39;00mfunc\u001b[38;5;241m.\u001b[39m\u001b[38;5;18m__qualname__\u001b[39m\u001b[38;5;132;01m}\u001b[39;00m\u001b[38;5;124m must be\u001b[39m\u001b[38;5;124m\"\u001b[39m,\n\u001b[1;32m    222\u001b[0m         \u001b[38;5;28mstr\u001b[39m(e),\n\u001b[1;32m    223\u001b[0m     )\n",
      "File \u001b[0;32m~/miniconda3/envs/PR/lib/python3.9/site-packages/sklearn/metrics/cluster/_unsupervised.py:141\u001b[0m, in \u001b[0;36msilhouette_score\u001b[0;34m(X, labels, metric, sample_size, random_state, **kwds)\u001b[0m\n\u001b[1;32m    139\u001b[0m     \u001b[38;5;28;01melse\u001b[39;00m:\n\u001b[1;32m    140\u001b[0m         X, labels \u001b[38;5;241m=\u001b[39m X[indices], labels[indices]\n\u001b[0;32m--> 141\u001b[0m \u001b[38;5;28;01mreturn\u001b[39;00m np\u001b[38;5;241m.\u001b[39mmean(\u001b[43msilhouette_samples\u001b[49m\u001b[43m(\u001b[49m\u001b[43mX\u001b[49m\u001b[43m,\u001b[49m\u001b[43m \u001b[49m\u001b[43mlabels\u001b[49m\u001b[43m,\u001b[49m\u001b[43m \u001b[49m\u001b[43mmetric\u001b[49m\u001b[38;5;241;43m=\u001b[39;49m\u001b[43mmetric\u001b[49m\u001b[43m,\u001b[49m\u001b[43m \u001b[49m\u001b[38;5;241;43m*\u001b[39;49m\u001b[38;5;241;43m*\u001b[39;49m\u001b[43mkwds\u001b[49m\u001b[43m)\u001b[49m)\n",
      "File \u001b[0;32m~/miniconda3/envs/PR/lib/python3.9/site-packages/sklearn/utils/_param_validation.py:186\u001b[0m, in \u001b[0;36mvalidate_params.<locals>.decorator.<locals>.wrapper\u001b[0;34m(*args, **kwargs)\u001b[0m\n\u001b[1;32m    184\u001b[0m global_skip_validation \u001b[38;5;241m=\u001b[39m get_config()[\u001b[38;5;124m\"\u001b[39m\u001b[38;5;124mskip_parameter_validation\u001b[39m\u001b[38;5;124m\"\u001b[39m]\n\u001b[1;32m    185\u001b[0m \u001b[38;5;28;01mif\u001b[39;00m global_skip_validation:\n\u001b[0;32m--> 186\u001b[0m     \u001b[38;5;28;01mreturn\u001b[39;00m \u001b[43mfunc\u001b[49m\u001b[43m(\u001b[49m\u001b[38;5;241;43m*\u001b[39;49m\u001b[43margs\u001b[49m\u001b[43m,\u001b[49m\u001b[43m \u001b[49m\u001b[38;5;241;43m*\u001b[39;49m\u001b[38;5;241;43m*\u001b[39;49m\u001b[43mkwargs\u001b[49m\u001b[43m)\u001b[49m\n\u001b[1;32m    188\u001b[0m func_sig \u001b[38;5;241m=\u001b[39m signature(func)\n\u001b[1;32m    190\u001b[0m \u001b[38;5;66;03m# Map *args/**kwargs to the function signature\u001b[39;00m\n",
      "File \u001b[0;32m~/miniconda3/envs/PR/lib/python3.9/site-packages/sklearn/metrics/cluster/_unsupervised.py:305\u001b[0m, in \u001b[0;36msilhouette_samples\u001b[0;34m(X, labels, metric, **kwds)\u001b[0m\n\u001b[1;32m    301\u001b[0m kwds[\u001b[38;5;124m\"\u001b[39m\u001b[38;5;124mmetric\u001b[39m\u001b[38;5;124m\"\u001b[39m] \u001b[38;5;241m=\u001b[39m metric\n\u001b[1;32m    302\u001b[0m reduce_func \u001b[38;5;241m=\u001b[39m functools\u001b[38;5;241m.\u001b[39mpartial(\n\u001b[1;32m    303\u001b[0m     _silhouette_reduce, labels\u001b[38;5;241m=\u001b[39mlabels, label_freqs\u001b[38;5;241m=\u001b[39mlabel_freqs\n\u001b[1;32m    304\u001b[0m )\n\u001b[0;32m--> 305\u001b[0m results \u001b[38;5;241m=\u001b[39m \u001b[38;5;28;43mzip\u001b[39;49m\u001b[43m(\u001b[49m\u001b[38;5;241;43m*\u001b[39;49m\u001b[43mpairwise_distances_chunked\u001b[49m\u001b[43m(\u001b[49m\u001b[43mX\u001b[49m\u001b[43m,\u001b[49m\u001b[43m \u001b[49m\u001b[43mreduce_func\u001b[49m\u001b[38;5;241;43m=\u001b[39;49m\u001b[43mreduce_func\u001b[49m\u001b[43m,\u001b[49m\u001b[43m \u001b[49m\u001b[38;5;241;43m*\u001b[39;49m\u001b[38;5;241;43m*\u001b[39;49m\u001b[43mkwds\u001b[49m\u001b[43m)\u001b[49m\u001b[43m)\u001b[49m\n\u001b[1;32m    306\u001b[0m intra_clust_dists, inter_clust_dists \u001b[38;5;241m=\u001b[39m results\n\u001b[1;32m    307\u001b[0m intra_clust_dists \u001b[38;5;241m=\u001b[39m np\u001b[38;5;241m.\u001b[39mconcatenate(intra_clust_dists)\n",
      "File \u001b[0;32m~/miniconda3/envs/PR/lib/python3.9/site-packages/sklearn/metrics/pairwise.py:2181\u001b[0m, in \u001b[0;36mpairwise_distances_chunked\u001b[0;34m(X, Y, reduce_func, metric, n_jobs, working_memory, **kwds)\u001b[0m\n\u001b[1;32m   2179\u001b[0m \u001b[38;5;28;01mif\u001b[39;00m reduce_func \u001b[38;5;129;01mis\u001b[39;00m \u001b[38;5;129;01mnot\u001b[39;00m \u001b[38;5;28;01mNone\u001b[39;00m:\n\u001b[1;32m   2180\u001b[0m     chunk_size \u001b[38;5;241m=\u001b[39m D_chunk\u001b[38;5;241m.\u001b[39mshape[\u001b[38;5;241m0\u001b[39m]\n\u001b[0;32m-> 2181\u001b[0m     D_chunk \u001b[38;5;241m=\u001b[39m \u001b[43mreduce_func\u001b[49m\u001b[43m(\u001b[49m\u001b[43mD_chunk\u001b[49m\u001b[43m,\u001b[49m\u001b[43m \u001b[49m\u001b[43msl\u001b[49m\u001b[38;5;241;43m.\u001b[39;49m\u001b[43mstart\u001b[49m\u001b[43m)\u001b[49m\n\u001b[1;32m   2182\u001b[0m     _check_chunk_size(D_chunk, chunk_size)\n\u001b[1;32m   2183\u001b[0m \u001b[38;5;28;01myield\u001b[39;00m D_chunk\n",
      "File \u001b[0;32m~/miniconda3/envs/PR/lib/python3.9/site-packages/sklearn/metrics/cluster/_unsupervised.py:182\u001b[0m, in \u001b[0;36m_silhouette_reduce\u001b[0;34m(D_chunk, start, labels, label_freqs)\u001b[0m\n\u001b[1;32m    180\u001b[0m         sample_weights \u001b[38;5;241m=\u001b[39m D_chunk[i]\n\u001b[1;32m    181\u001b[0m         sample_labels \u001b[38;5;241m=\u001b[39m labels\n\u001b[0;32m--> 182\u001b[0m         cluster_distances[i] \u001b[38;5;241m+\u001b[39m\u001b[38;5;241m=\u001b[39m \u001b[43mnp\u001b[49m\u001b[38;5;241;43m.\u001b[39;49m\u001b[43mbincount\u001b[49m\u001b[43m(\u001b[49m\n\u001b[1;32m    183\u001b[0m \u001b[43m            \u001b[49m\u001b[43msample_labels\u001b[49m\u001b[43m,\u001b[49m\u001b[43m \u001b[49m\u001b[43mweights\u001b[49m\u001b[38;5;241;43m=\u001b[39;49m\u001b[43msample_weights\u001b[49m\u001b[43m,\u001b[49m\u001b[43m \u001b[49m\u001b[43mminlength\u001b[49m\u001b[38;5;241;43m=\u001b[39;49m\u001b[38;5;28;43mlen\u001b[39;49m\u001b[43m(\u001b[49m\u001b[43mlabel_freqs\u001b[49m\u001b[43m)\u001b[49m\n\u001b[1;32m    184\u001b[0m \u001b[43m        \u001b[49m\u001b[43m)\u001b[49m\n\u001b[1;32m    186\u001b[0m \u001b[38;5;66;03m# intra_index selects intra-cluster distances within cluster_distances\u001b[39;00m\n\u001b[1;32m    187\u001b[0m end \u001b[38;5;241m=\u001b[39m start \u001b[38;5;241m+\u001b[39m n_chunk_samples\n",
      "\u001b[0;31mKeyboardInterrupt\u001b[0m: "
     ]
    }
   ],
   "source": [
    "print(\"HOG特征聚类分析:\")\n",
    "optimal_c_hog = optimal_c_value(features_hog)\n",
    "kmeans_hog, labels_hog = Kmeans(features_hog, optimal_c_hog)\n",
    "print(f\"optimal C-value with Resnet: {optimal_c_resnet}\")"
   ]
  },
  {
   "cell_type": "code",
   "execution_count": 42,
   "id": "aa75cb14-12af-401e-b1c3-8d1c0b8554d7",
   "metadata": {},
   "outputs": [
    {
     "name": "stdout",
     "output_type": "stream",
     "text": [
      "ResNet特征聚类分析:\n",
      "(512, 1)\n",
      "类内间距:  101.2096\n",
      "类外间距:  1.9095945\n",
      "聚类效果评价参数:  0.018867722\n",
      "optimal C-value with Resnet: 2\n"
     ]
    }
   ],
   "source": [
    "print(\"ResNet特征聚类分析:\")\n",
    "optimal_c_resnet = optimal_c_value(features_resnet)\n",
    "kmeans_resnet, labels_resnet = Kmeans(features_resnet, optimal_c_resnet)\n",
    "print(f\"optimal C-value with Resnet: {optimal_c_resnet}\")"
   ]
  },
  {
   "cell_type": "code",
   "execution_count": null,
   "id": "560f1d06-32c9-48ad-81de-fe0f950fb303",
   "metadata": {},
   "outputs": [],
   "source": []
  }
 ],
 "metadata": {
  "kernelspec": {
   "display_name": "Python 3 (ipykernel)",
   "language": "python",
   "name": "python3"
  },
  "language_info": {
   "codemirror_mode": {
    "name": "ipython",
    "version": 3
   },
   "file_extension": ".py",
   "mimetype": "text/x-python",
   "name": "python",
   "nbconvert_exporter": "python",
   "pygments_lexer": "ipython3",
   "version": "3.9.18"
  }
 },
 "nbformat": 4,
 "nbformat_minor": 5
}
