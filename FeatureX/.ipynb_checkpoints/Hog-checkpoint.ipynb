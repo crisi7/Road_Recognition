{
 "cells": [
  {
   "cell_type": "code",
   "execution_count": 17,
   "id": "a1a85a8a-db35-4412-8abb-efb55194472a",
   "metadata": {},
   "outputs": [],
   "source": [
    "import cv2\n",
    "import numpy as np"
   ]
  },
  {
   "cell_type": "code",
   "execution_count": 25,
   "id": "09a3e7d6-9670-422e-a32b-109a68a92df8",
   "metadata": {},
   "outputs": [
    {
     "name": "stdout",
     "output_type": "stream",
     "text": [
      "(250, 500, 3)\n",
      "(3326400,)\n"
     ]
    }
   ],
   "source": [
    "target = 3\n",
    "data_name = ['0618', '0854', '1066'][target - 1]\n",
    "\n",
    "img = cv2.imread(f'../input_data/{data_name}.png')\n",
    "print(img.shape)\n",
    "\n",
    "hog = cv2.HOGDescriptor()\n",
    "hog_features = hog.compute(img)\n",
    "print(hog_features.shape)\n",
    "np.save(f'./Features/{data_name}_hog_featuers.npy', hog_features)"
   ]
  },
  {
   "cell_type": "code",
   "execution_count": 26,
   "id": "bdcaba9e-f6d3-4e46-918b-27649eec81ce",
   "metadata": {},
   "outputs": [
    {
     "name": "stdout",
     "output_type": "stream",
     "text": [
      "[0.33328795 0.34188488 0.05450231 ... 0.20772858 0.11661211 0.02874547]\n"
     ]
    }
   ],
   "source": [
    "print(hog_features)"
   ]
  }
 ],
 "metadata": {
  "kernelspec": {
   "display_name": "Python 3 (ipykernel)",
   "language": "python",
   "name": "python3"
  },
  "language_info": {
   "codemirror_mode": {
    "name": "ipython",
    "version": 3
   },
   "file_extension": ".py",
   "mimetype": "text/x-python",
   "name": "python",
   "nbconvert_exporter": "python",
   "pygments_lexer": "ipython3",
   "version": "3.9.20"
  }
 },
 "nbformat": 4,
 "nbformat_minor": 5
}
