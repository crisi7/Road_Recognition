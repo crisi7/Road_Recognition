{
 "cells": [
  {
   "cell_type": "code",
   "execution_count": 22,
   "id": "9b087b59-b320-4776-8f59-e3cf500259fe",
   "metadata": {},
   "outputs": [
    {
     "name": "stdout",
     "output_type": "stream",
     "text": [
      "特征提取完成并保存到 ./Features/1066_DictL_features.npy\n"
     ]
    },
    {
     "data": {
      "image/png": "[encoded data removed]",
      "text/plain": [
       "<Figure size 800x800 with 64 Axes>"
      ]
     },
     "metadata": {},
     "output_type": "display_data"
    },
    {
     "name": "stdout",
     "output_type": "stream",
     "text": [
      "finish\n"
     ]
    }
   ],
   "source": [
    "import torch\n",
    "import numpy as np\n",
    "import cv2\n",
    "import matplotlib.pyplot as plt\n",
    "\n",
    "# 1. 加载图像并转换为灰度图\n",
    "# 选择图片和标签数据\n",
    "target = 3\n",
    "data_name = ['0618', '0854', '1066'][target - 1]\n",
    "img_path = f'../input_data/{data_name}.png'  # 原图路径\n",
    "json_path = f'../input_data/{data_name}.json'  # Labelme 标注文件路径\n",
    "output_features_filename = f'./Features/{data_name}_DictL_features.npy'  # 数据输出路径\n",
    "output_labels_filename = f'./Features/{data_name}_DictL_labels.npy'  # 数据输出路径\n",
    "output_img = f'./img/{data_name}_DictL_img.png'\n",
    "image = cv2.imread(img_path, cv2.IMREAD_GRAYSCALE)\n",
    "\n",
    "# 2. 切分图像为小块（例如 8x8 的块）\n",
    "patch_size = 8\n",
    "patches = []\n",
    "\n",
    "for i in range(0, image.shape[0] - patch_size + 1, patch_size):\n",
    "    for j in range(0, image.shape[1] - patch_size + 1, patch_size):\n",
    "        patch = image[i:i + patch_size, j:j + patch_size]\n",
    "        patches.append(patch.flatten())  # 将每个块展平成一个向量\n",
    "\n",
    "patches = np.array(patches)\n",
    "\n",
    "# 将数据转换为 PyTorch 张量并移动到 GPU\n",
    "patches_torch = torch.tensor(patches, dtype=torch.float32).cuda()\n",
    "\n",
    "# 3. 字典学习优化 (使用 PyTorch)\n",
    "n_components = 64  # 字典元素数量\n",
    "n_samples, n_features = patches.shape\n",
    "\n",
    "# 随机初始化字典 D\n",
    "D = torch.randn(n_components, n_features, device=\"cuda\") * 0.1  # 字典矩阵\n",
    "\n",
    "# 稀疏编码函数 (Lasso 稀疏约束)\n",
    "def soft_thresholding(x, lambda_):\n",
    "    return torch.sign(x) * torch.maximum(torch.abs(x) - lambda_, torch.zeros_like(x))\n",
    "\n",
    "# 设置超参数\n",
    "lambda_ = 0.1  # L1 正则化参数\n",
    "n_iter = 500  # 迭代次数\n",
    "\n",
    "# 字典学习迭代\n",
    "for _ in range(n_iter):\n",
    "    # 计算稀疏系数 (Lasso 解)\n",
    "    alpha = torch.matmul(patches_torch, D.T)  # 投影到字典空间\n",
    "    alpha = soft_thresholding(alpha, lambda_)\n",
    "\n",
    "    # 更新字典\n",
    "    D = torch.matmul(alpha.T, patches_torch)  # 重构字典\n",
    "    D = D / torch.norm(D, dim=1, keepdim=True)  # 归一化字典\n",
    "\n",
    "# 4. 特征提取\n",
    "# 使用学习到的字典对图像进行稀疏表示\n",
    "features = torch.matmul(patches_torch, D.T)  # 特征矩阵\n",
    "\n",
    "# 5. 将特征从 GPU 移回 CPU\n",
    "features_cpu = features.cpu().numpy()\n",
    "\n",
    "# 6. 保存特征\n",
    "np.save(output_features_filename, features_cpu)\n",
    "\n",
    "print(f\"特征提取完成并保存到 {output_features_filename}\")\n",
    "\n",
    "# 7. 可视化字典\n",
    "dictionary = D.cpu().detach().numpy()  # 将字典从 GPU 移回 CPU\n",
    "plt.figure(figsize=(8, 8))\n",
    "for i in range(dictionary.shape[0]):\n",
    "    plt.subplot(8, 8, i + 1)\n",
    "    plt.imshow(dictionary[i].reshape(patch_size, patch_size), cmap='gray')\n",
    "    plt.axis('off')\n",
    "plt.savefig(output_img, bbox_inches='tight', pad_inches=0.1)\n",
    "plt.show()\n",
    "\n",
    "print('finish')"
   ]
  },
  {
   "cell_type": "code",
   "execution_count": 12,
   "id": "9fa3d608-614a-45b2-a32c-5396a9109fb8",
   "metadata": {},
   "outputs": [
    {
     "data": {
      "text/plain": [
       "(1922, 64)"
      ]
     },
     "execution_count": 12,
     "metadata": {},
     "output_type": "execute_result"
    }
   ],
   "source": [
    "features_cpu。shape"
   ]
  },
  {
   "cell_type": "code",
   "execution_count": null,
   "id": "86fdd5c0-3e2b-451a-b519-e3403c451991",
   "metadata": {},
   "outputs": [],
   "source": []
  },
  {
   "cell_type": "code",
   "execution_count": null,
   "id": "6636791f-8855-4a1b-82d8-028c4217d99b",
   "metadata": {},
   "outputs": [],
   "source": []
  }
 ],
 "metadata": {
  "kernelspec": {
   "display_name": "Python 3 (ipykernel)",
   "language": "python",
   "name": "python3"
  },
  "language_info": {
   "codemirror_mode": {
    "name": "ipython",
    "version": 3
   },
   "file_extension": ".py",
   "mimetype": "text/x-python",
   "name": "python",
   "nbconvert_exporter": "python",
   "pygments_lexer": "ipython3",
   "version": "3.9.20"
  }
 },
 "nbformat": 4,
 "nbformat_minor": 5
}
