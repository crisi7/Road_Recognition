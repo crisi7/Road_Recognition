{
 "cells": [
  {
   "cell_type": "code",
   "execution_count": 1,
   "id": "2c9fc350-240c-4a2b-875c-711b5a7d12da",
   "metadata": {},
   "outputs": [],
   "source": [
    "import torch\n",
    "import numpy as np\n",
    "import matplotlib.pyplot as plt\n",
    "from sklearn.cluster import KMeans\n",
    "from sklearn.metrics import silhouette_score"
   ]
  },
  {
   "cell_type": "markdown",
   "id": "ae8822a1-dee1-4503-9f1f-93e0600483f1",
   "metadata": {},
   "source": [
    "选取数据"
   ]
  },
  {
   "cell_type": "code",
   "execution_count": 2,
   "id": "4b9ca0db-ba00-444e-a400-e24174624047",
   "metadata": {},
   "outputs": [],
   "source": [
    "target = 3\n",
    "data_name = ['0618', '0854', '1066'][target - 1]"
   ]
  },
  {
   "cell_type": "markdown",
   "id": "ac7a9127-2b62-47f7-86ac-2e683637d07f",
   "metadata": {},
   "source": [
    "采用轮廓系数和Elbow方法选取最优C值"
   ]
  },
  {
   "cell_type": "code",
   "execution_count": 3,
   "id": "c6c2705c-349d-44da-b2ff-c19e94b5bd65",
   "metadata": {},
   "outputs": [],
   "source": [
    "def optimal_c_value(features, max_c=15):\n",
    "    # max_c=10-15基本可以满足大部分特征这也是Elbow的上限\n",
    "    \n",
    "    sse = []  # 存储SSE（聚类内误差平方和）\n",
    "    silhouette_scores = []  # 存储轮廓系数，用于聚类效果评估越大效果越好\n",
    "    \n",
    "    # 计算不同C值下的SSE和轮廓系数\n",
    "    for c in range(2, max_c + 1): # C从2取到max_c\n",
    "        kmeans = KMeans(n_clusters=c, random_state=42)\n",
    "        kmeans.fit(features)\n",
    "        sse.append(kmeans.inertia_) #读取当前聚类的SSE存入列表\n",
    "        silhouette_scores.append(silhouette_score(features, kmeans.labels_))\n",
    "\n",
    "    # # 绘制Elbow图和轮廓系数图\n",
    "    # plt.figure(figsize=(12, 5))\n",
    "    \n",
    "    # # Elbow图\n",
    "    # plt.subplot(1, 2, 1)\n",
    "    # plt.plot(range(2, max_c + 1), sse, marker='o')\n",
    "    # plt.xlabel(\"C-value\")\n",
    "    # plt.ylabel(\"SSE\")\n",
    "    # plt.title(\"Elbow search optimal C-value\")\n",
    "    \n",
    "    # # 轮廓系数图\n",
    "    # plt.subplot(1, 2, 2)\n",
    "    # plt.plot(range(2, max_c + 1), silhouette_scores, marker='o')\n",
    "    # plt.xlabel(\"C-value\")\n",
    "    # plt.ylabel(\"silhouette scores\")\n",
    "    # plt.title(\"silhouette scores search optimal C-value\")\n",
    "\n",
    "    # plt.show()\n",
    "\n",
    "    # 选取拐点（Elbow法）或轮廓系数最大的C值\n",
    "    optimal_c = 2 + np.argmax(silhouette_scores)  # 最佳C值\n",
    "    return optimal_c"
   ]
  },
  {
   "cell_type": "markdown",
   "id": "b41addab-cb60-4973-a96f-7fe57f12cd31",
   "metadata": {},
   "source": [
    "Kmeans实现和评价指标"
   ]
  },
  {
   "cell_type": "code",
   "execution_count": 4,
   "id": "6825a8bb-ddcd-4fa8-8694-c9f6ca09147b",
   "metadata": {},
   "outputs": [],
   "source": [
    "from sklearn.decomposition import PCA\n",
    "from sklearn.manifold import TSNE\n",
    "\n",
    "def Kmeans(features, optimal_c):\n",
    "\n",
    "    print(features.shape)\n",
    "    kmeans = KMeans(n_clusters=optimal_c, random_state=0)\n",
    "    labels = kmeans.fit_predict(features)\n",
    "\n",
    "    centroids = kmeans.cluster_centers_\n",
    "    \n",
    "    with_d, between_d, cluster_socre = cluster_eval(features, labels, optimal_c, centroids)\n",
    "    print('类内间距: ', with_d)\n",
    "    print('类外间距: ', between_d)\n",
    "    print('聚类效果评价参数: ', cluster_socre) \n",
    "\n",
    "    return kmeans, labels\n",
    "\n",
    "def cluster_eval(data, labels, optimal_c, centroids):\n",
    "    K = optimal_c\n",
    "\n",
    "    # 计算类内间距\n",
    "    within_distances = []\n",
    "    for i in range(K):\n",
    "        cluster_points = data[labels == i]\n",
    "        centroid = centroids[i]\n",
    "\n",
    "        distance = np.sum(np.linalg.norm(cluster_points - centroid, axis=1))\n",
    "        within_distances.append(distance)\n",
    "\n",
    "    total_within_distance = np.mean(within_distances)\n",
    "\n",
    "    # 计算类外间距\n",
    "    between_distances = []\n",
    "    for i in range(K):\n",
    "        for j in range(i + 1, K):\n",
    "            distance = np.linalg.norm(centroids[i] - centroids[j])\n",
    "            between_distances.append(distance)\n",
    "    total_between_distance = np.mean(between_distances)\n",
    "\n",
    "    cluster_socre = total_between_distance / total_within_distance\n",
    "\n",
    "    return total_within_distance, total_between_distance, cluster_socre"
   ]
  },
  {
   "cell_type": "markdown",
   "id": "e0c68e02-4c7c-43be-9b0e-c6f3939d4043",
   "metadata": {},
   "source": [
    "寻求最优C值并进行聚类分析"
   ]
  },
  {
   "cell_type": "code",
   "execution_count": 5,
   "id": "6b5c7a56-1258-48cf-ac7a-600c6c34f84c",
   "metadata": {},
   "outputs": [
    {
     "name": "stdout",
     "output_type": "stream",
     "text": [
      "(1250, 3)\n",
      "(1250, 3)\n",
      "(1250, 27)\n",
      "(1250, 27)\n",
      "(3326400, 1)\n",
      "(512, 1)\n"
     ]
    }
   ],
   "source": [
    "features_bgr1x1 = np.load(f'./Features/{data_name}_BGR1x1_featuers.npy')  \n",
    "features_hsv1x1 = np.load(f'./Features/{data_name}_HSV1x1_features.npy')\n",
    "features_bgr3x3 = np.load(f'./Features/{data_name}_BGR3x3_featuers.npy')  \n",
    "features_hsv3x3 = np.load(f'./Features/{data_name}_HSV3x3_features.npy')  \n",
    "features_hog    = np.load(f'./Features/{data_name}_hog_featuers.npy').squeeze().reshape(-1, 1)\n",
    "features_resnet = np.load(f'./Features/{data_name}_NN_features.npy').squeeze().reshape(-1, 1)\n",
    "print(features_bgr1x1.shape)\n",
    "print(features_hsv1x1.shape)\n",
    "print(features_bgr3x3.shape)\n",
    "print(features_hsv3x3.shape)\n",
    "print(features_hog.shape)\n",
    "print(features_resnet.shape)"
   ]
  },
  {
   "cell_type": "code",
   "execution_count": 6,
   "id": "ef9a04e2-9a06-4a91-9d08-a57f2c3a7db5",
   "metadata": {},
   "outputs": [
    {
     "name": "stdout",
     "output_type": "stream",
     "text": [
      "BGR1x1特征聚类分析:\n",
      "(1250, 3)\n",
      "类内间距:  35715.25068469604\n",
      "类外间距:  282.26452270772035\n",
      "聚类效果评价参数:  0.007903193098086542\n",
      "optimal C-value with BGR1x1: 2\n"
     ]
    }
   ],
   "source": [
    "print(\"BGR1x1特征聚类分析:\")\n",
    "optimal_c_bgr1x1 = optimal_c_value(features_bgr1x1)\n",
    "kmeans_bgr1x1, labels_bgr1x1 = Kmeans(features_bgr1x1, optimal_c_bgr1x1)\n",
    "print(f\"optimal C-value with BGR1x1: {optimal_c_bgr1x1}\")"
   ]
  },
  {
   "cell_type": "code",
   "execution_count": 7,
   "id": "2ca1e4da-8344-4193-8db5-d36560440d24",
   "metadata": {},
   "outputs": [
    {
     "name": "stdout",
     "output_type": "stream",
     "text": [
      "HSV1x1特征聚类分析:\n",
      "(1250, 3)\n",
      "类内间距:  35715.25068469604\n",
      "类外间距:  282.26452270772035\n",
      "聚类效果评价参数:  0.007903193098086542\n",
      "optimal C-value with HSV1x1: 2\n"
     ]
    }
   ],
   "source": [
    "print(\"HSV1x1特征聚类分析:\")\n",
    "optimal_c_bgr1x1 = optimal_c_value(features_bgr1x1)\n",
    "kmeans_bgr1x1, labels_bgr1x1 = Kmeans(features_bgr1x1, optimal_c_bgr1x1)\n",
    "print(f\"optimal C-value with HSV1x1: {optimal_c_bgr1x1}\")"
   ]
  },
  {
   "cell_type": "code",
   "execution_count": 8,
   "id": "accf3f50-5872-4ac1-a937-746a6f02260e",
   "metadata": {},
   "outputs": [
    {
     "name": "stdout",
     "output_type": "stream",
     "text": [
      "BGR3x3特征聚类分析:\n",
      "(1250, 27)\n",
      "类内间距:  109643.29206397198\n",
      "类外间距:  841.3027634722699\n",
      "聚类效果评价参数:  0.007673089229949491\n",
      "optimal C-value with BGR3x3: 2\n"
     ]
    }
   ],
   "source": [
    "print(\"BGR3x3特征聚类分析:\")\n",
    "optimal_c_bgr3x3 = optimal_c_value(features_bgr3x3)\n",
    "kmeans_bgr3x3, labels_bgr3x3 = Kmeans(features_bgr3x3, optimal_c_bgr3x3)\n",
    "print(f\"optimal C-value with BGR3x3: {optimal_c_bgr3x3}\")"
   ]
  },
  {
   "cell_type": "code",
   "execution_count": 9,
   "id": "33285a66-aaaa-49cc-aecf-6c254b4cdf8e",
   "metadata": {},
   "outputs": [
    {
     "name": "stdout",
     "output_type": "stream",
     "text": [
      "HSV3x3特征聚类分析:\n",
      "(1250, 27)\n",
      "类内间距:  91935.81550013072\n",
      "类外间距:  498.1008898989391\n",
      "聚类效果评价参数:  0.005417919960673334\n",
      "optimal C-value with HSV3x3: 2\n"
     ]
    }
   ],
   "source": [
    "print(\"HSV3x3特征聚类分析:\")\n",
    "optimal_c_hsv3x3 = optimal_c_value(features_hsv3x3)\n",
    "kmeans_hsv3x3, labels_hsv3x3 = Kmeans(features_hsv3x3, optimal_c_hsv3x3)\n",
    "print(f\"optimal C-value with HSV3x3: {optimal_c_hsv3x3}\")"
   ]
  },
  {
   "cell_type": "code",
   "execution_count": 10,
   "id": "761afcc2-5918-47a3-b9f0-6ef2df5dda6a",
   "metadata": {},
   "outputs": [],
   "source": [
    "# print(\"HOG特征聚类分析:\")\n",
    "# optimal_c_hog = optimal_c_value(features_hog)\n",
    "# kmeans_hog, labels_hog = Kmeans(features_hog, optimal_c_hog)\n",
    "# print(f\"optimal C-value with Resnet: {optimal_c_resnet}\")"
   ]
  },
  {
   "cell_type": "code",
   "execution_count": 11,
   "id": "aa75cb14-12af-401e-b1c3-8d1c0b8554d7",
   "metadata": {},
   "outputs": [
    {
     "name": "stdout",
     "output_type": "stream",
     "text": [
      "ResNet特征聚类分析:\n",
      "(512, 1)\n",
      "类内间距:  101.2096\n",
      "类外间距:  1.9095945\n",
      "聚类效果评价参数:  0.018867722\n",
      "optimal C-value with Resnet: 2\n"
     ]
    }
   ],
   "source": [
    "print(\"ResNet特征聚类分析:\")\n",
    "optimal_c_resnet = optimal_c_value(features_resnet)\n",
    "kmeans_resnet, labels_resnet = Kmeans(features_resnet, optimal_c_resnet)\n",
    "print(f\"optimal C-value with Resnet: {optimal_c_resnet}\")"
   ]
  },
  {
   "cell_type": "code",
   "execution_count": null,
   "id": "560f1d06-32c9-48ad-81de-fe0f950fb303",
   "metadata": {},
   "outputs": [],
   "source": []
  }
 ],
 "metadata": {
  "kernelspec": {
   "display_name": "Python 3 (ipykernel)",
   "language": "python",
   "name": "python3"
  },
  "language_info": {
   "codemirror_mode": {
    "name": "ipython",
    "version": 3
   },
   "file_extension": ".py",
   "mimetype": "text/x-python",
   "name": "python",
   "nbconvert_exporter": "python",
   "pygments_lexer": "ipython3",
   "version": "3.9.18"
  }
 },
 "nbformat": 4,
 "nbformat_minor": 5
}
