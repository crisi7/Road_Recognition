{
 "cells": [
  {
   "cell_type": "code",
   "execution_count": 1,
   "id": "a564b879-bf37-458b-b6db-a6c53139de64",
   "metadata": {},
   "outputs": [],
   "source": [
    "import cv2\n",
    "import numpy as np\n",
    "from skimage.feature import hog\n",
    "from skimage import exposure\n",
    "import json\n",
    "import matplotlib.pyplot as plt"
   ]
  },
  {
   "cell_type": "code",
   "execution_count": 6,
   "id": "4e372278-1209-467b-a69d-6c8bf4ddd91a",
   "metadata": {},
   "outputs": [
    {
     "name": "stdout",
     "output_type": "stream",
     "text": [
      "Image Shape: (250, 500, 3)\n",
      "HOG Features Shape: (197640,)\n",
      "Labels saved as 0854_labels.npy\n",
      "(250, 500)\n"
     ]
    }
   ],
   "source": [
    "# 设置目标图像的索引\n",
    "target = 2\n",
    "data_name = ['0618', '0854', '1066'][target - 1]\n",
    "\n",
    "# 读取RGB图像\n",
    "img = cv2.imread(f'../input_data/{data_name}.png')\n",
    "print(f\"Image Shape: {img.shape}\")\n",
    "\n",
    "# 假设你已经准备好了标签\n",
    "labelme_json_path = f'../input_data/{data_name}.json'\n",
    "\n",
    "# 读取LabelMe的JSON文件\n",
    "with open(labelme_json_path, 'r') as f:\n",
    "    label_data = json.load(f)\n",
    "\n",
    "# 转换图像到RGB格式（OpenCV使用BGR格式）\n",
    "img_rgb = cv2.cvtColor(img, cv2.COLOR_BGR2RGB)\n",
    "\n",
    "# HOG特征提取 - 分通道提取\n",
    "def extract_hog_features_rgb(img_rgb):\n",
    "    hog_features = []\n",
    "    \n",
    "    # 为每个颜色通道提取HOG特征\n",
    "    for i in range(3):  # 对于R, G, B通道\n",
    "        channel = img_rgb[:, :, i]\n",
    "        fd, _ = hog(channel, orientations=9, pixels_per_cell=(8, 8), cells_per_block=(2, 2), visualize=True)\n",
    "        hog_features.append(fd)\n",
    "    \n",
    "    # 合并三个通道的特征\n",
    "    return np.concatenate(hog_features, axis=0)\n",
    "\n",
    "# 提取HOG特征\n",
    "hog_features = extract_hog_features_rgb(img_rgb)\n",
    "print(f\"HOG Features Shape: {hog_features.shape}\")\n",
    "\n",
    "# 保存HOG特征\n",
    "np.save(f'./Features/{data_name}_hog_features.npy', hog_features)\n",
    "\n",
    "# ---- 添加标签 ----\n",
    "# 创建一个与图像大小相同的空白标签图，初始值为0\n",
    "label_image = np.zeros((img.shape[0], img.shape[1]), dtype=np.uint8)\n",
    "\n",
    "# 遍历每个标注对象并绘制标签\n",
    "for shape in label_data['shapes']:\n",
    "    label_name = shape['label']  # 获取标签名称\n",
    "    points = np.array(shape['points'], dtype=np.int32)  # 获取多边形的顶点\n",
    "\n",
    "    # 绘制多边形区域为标签\n",
    "    if label_name == 'road':  # 例如，'road'对应标签1\n",
    "        cv2.fillPoly(label_image, [points], 1)\n",
    "    elif label_name == 'building':  # 例如，'building'对应标签2\n",
    "        cv2.fillPoly(label_image, [points], 2)\n",
    "\n",
    "# 保存标签图像\n",
    "np.save(f'./Features/{data_name}_hog_labels.npy', label_image)\n",
    "\n",
    "print(f\"Labels saved as {data_name}_labels.npy\")\n",
    "\n",
    "# 打印标签图像的部分内容进行验证\n",
    "print(label_image.shape)"
   ]
  },
  {
   "cell_type": "code",
   "execution_count": null,
   "id": "cbd57627-8404-423f-ae7b-7dff611edbe2",
   "metadata": {},
   "outputs": [],
   "source": []
  }
 ],
 "metadata": {
  "kernelspec": {
   "display_name": "Python 3 (ipykernel)",
   "language": "python",
   "name": "python3"
  },
  "language_info": {
   "codemirror_mode": {
    "name": "ipython",
    "version": 3
   },
   "file_extension": ".py",
   "mimetype": "text/x-python",
   "name": "python",
   "nbconvert_exporter": "python",
   "pygments_lexer": "ipython3",
   "version": "3.9.18"
  }
 },
 "nbformat": 4,
 "nbformat_minor": 5
}
