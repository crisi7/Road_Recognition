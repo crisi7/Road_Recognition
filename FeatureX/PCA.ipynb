{
 "cells": [
  {
   "cell_type": "code",
   "execution_count": 42,
   "id": "1e9350da-74bd-4ff6-9c7a-31b833ac204d",
   "metadata": {},
   "outputs": [],
   "source": [
    "import cv2\n",
    "import numpy as np\n",
    "from sklearn.decomposition import PCA\n",
    "from sklearn.preprocessing import StandardScaler\n",
    "import matplotlib.pyplot as plt"
   ]
  },
  {
   "cell_type": "code",
   "execution_count": 47,
   "id": "bce8852e-e99b-452e-89ad-e1418fb848dc",
   "metadata": {},
   "outputs": [
    {
     "name": "stdout",
     "output_type": "stream",
     "text": [
      "(125000, 3)\n",
      "<class 'numpy.ndarray'>\n"
     ]
    }
   ],
   "source": [
    "# 选择图片和标签数据\n",
    "target = 3\n",
    "data_name = ['0618', '0854', '1066'][target - 1]\n",
    "img_path = f'../input_data/{data_name}.png'  # 原图路径\n",
    "output_features_filename = f'./Features/{data_name}_PCA_features.npy'  # 数据输出路径\n",
    "\n",
    "img = cv2.imread(img_path)\n",
    "image = img.reshape(-1, 3) #BGR\n",
    "print(image.shape)\n",
    "print(type(image))"
   ]
  },
  {
   "cell_type": "code",
   "execution_count": 48,
   "id": "47973943-5d8c-47db-929d-7c2f88789f31",
   "metadata": {},
   "outputs": [
    {
     "name": "stdout",
     "output_type": "stream",
     "text": [
      "(125000, 2)\n",
      "<class 'numpy.ndarray'>\n",
      "PCA选择的主成分个数: 2\n"
     ]
    }
   ],
   "source": [
    "scaler = StandardScaler()\n",
    "image_scaled = scaler.fit_transform(image)\n",
    "\n",
    "pca = PCA(n_components='mle', svd_solver='full')\n",
    "\n",
    "image_pca = pca.fit_transform(image_scaled)\n",
    "print(data_pca.shape)\n",
    "print(type(data_pca))\n",
    "\n",
    "np.save(output_features_filename, image_pca)\n",
    "print(f'PCA选择的主成分个数: {pca.n_components_}')"
   ]
  },
  {
   "cell_type": "code",
   "execution_count": null,
   "id": "187ef978-6a04-4788-a5a3-56120a4b4bff",
   "metadata": {},
   "outputs": [],
   "source": []
  }
 ],
 "metadata": {
  "kernelspec": {
   "display_name": "Python 3 (ipykernel)",
   "language": "python",
   "name": "python3"
  },
  "language_info": {
   "codemirror_mode": {
    "name": "ipython",
    "version": 3
   },
   "file_extension": ".py",
   "mimetype": "text/x-python",
   "name": "python",
   "nbconvert_exporter": "python",
   "pygments_lexer": "ipython3",
   "version": "3.9.20"
  }
 },
 "nbformat": 4,
 "nbformat_minor": 5
}
