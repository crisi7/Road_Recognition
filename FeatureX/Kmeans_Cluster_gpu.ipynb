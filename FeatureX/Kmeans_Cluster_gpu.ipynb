{
 "cells": [
  {
   "cell_type": "code",
   "execution_count": 1,
   "id": "bb85d27f-e18b-4edf-a6f1-da6695a75046",
   "metadata": {},
   "outputs": [],
   "source": [
    "import torch\n",
    "import numpy as np\n",
    "from sklearn.metrics import silhouette_score\n",
    "from sklearn.cluster import KMeans\n",
    "import matplotlib.pyplot as plt\n",
    "from tqdm import tqdm  \n",
    "from sklearn.cluster import MiniBatchKMeans"
   ]
  },
  {
   "cell_type": "code",
   "execution_count": 9,
   "id": "c5fcbf78-c7a0-427b-923b-21b60a79820a",
   "metadata": {},
   "outputs": [],
   "source": [
    "# 数据准备\n",
    "target = 1\n",
    "data_name = ['0618', '0854', '1066'][target - 1]\n",
    "features_bgr1x1 = np.load(f'./Features/{data_name}_BGR1x1_featuers.npy')\n",
    "features_hsv1x1 = np.load(f'./Features/{data_name}_HSV1x1_features.npy')\n",
    "features_bgr3x3 = np.load(f'./Features/{data_name}_BGR3x3_featuers.npy')\n",
    "features_hsv3x3 = np.load(f'./Features/{data_name}_HSV3x3_features.npy')\n",
    "features_resnet = np.load(f'./Features/{data_name}_resnet_features.npy').squeeze().reshape(-1, 1)\n",
    "features_hog = np.load(f'./Features/{data_name}_HOG_featuers.npy')\n",
    "features_gist = np.load(f'./Features/{data_name}_GIST_featuers.npy').reshape(-1, 1)\n",
    "features_pca = np.load(f'./Features/{data_name}_PCA_features.npy')\n",
    "\n",
    "# 将数据从 NumPy 转换为 PyTorch 张量，并将其转移到 GPU\n",
    "device = torch.device(\"cuda\" if torch.cuda.is_available() else \"cpu\")\n",
    "features_bgr1x1 = torch.tensor(features_bgr1x1, dtype=torch.float32, device=device)\n",
    "features_hsv1x1 = torch.tensor(features_hsv1x1, dtype=torch.float32, device=device)\n",
    "features_bgr3x3 = torch.tensor(features_bgr3x3, dtype=torch.float32, device=device)\n",
    "features_hsv3x3 = torch.tensor(features_hsv3x3, dtype=torch.float32, device=device)\n",
    "features_resnet = torch.tensor(features_resnet, dtype=torch.float32, device=device)\n",
    "features_hog = torch.tensor(features_hog, dtype=torch.float32, device=device)\n",
    "features_gist = torch.tensor(features_gist, dtype=torch.float32, device=device)\n",
    "features_pca = torch.tensor(features_pca, dtype=torch.float32, device=device)\n"
   ]
  },
  {
   "cell_type": "code",
   "execution_count": 3,
   "id": "ad44125e-912c-47ad-945b-5bdc5206c92f",
   "metadata": {},
   "outputs": [],
   "source": [
    "def optimal_c_value(features, max_c=15):\n",
    "    sse = []  # 存储SSE（聚类内误差平方和）\n",
    "    \n",
    "    # 计算不同C值下的SSE，Elbow方法选择合适的C值\n",
    "    for c in tqdm(range(2, max_c + 1), desc=\"Calculating optimal C\"):\n",
    "        kmeans = MiniBatchKMeans(n_clusters=c, random_state=42, batch_size=200)\n",
    "        kmeans.fit(features.cpu().numpy())  # 转换为 CPU 上的 NumPy 数组\n",
    "        sse.append(kmeans.inertia_)  # 读取当前聚类的SSE存入列表\n",
    "\n",
    "    # # 绘制 Elbow 图，选择拐点\n",
    "    # plt.plot(range(2, max_c + 1), sse)\n",
    "    # plt.xlabel('Number of clusters (C)')\n",
    "    # plt.ylabel('SSE')\n",
    "    # plt.title('Elbow Method For Optimal C')\n",
    "    # plt.show()\n",
    "\n",
    "    # 找到 Elbow 的最佳 C 值\n",
    "    optimal_c = np.argmin(np.diff(sse)) + 2  # 选择拐点的前一个值\n",
    "    return optimal_c\n",
    "\n",
    "def Kmeans(features, optimal_c):\n",
    "    # 使用 PyTorch 进行 GPU 加速的 KMeans 聚类\n",
    "    features_gpu = features.to(device)\n",
    "    num_samples, num_features = features_gpu.shape\n",
    "    kmeans = KMeans(n_clusters=optimal_c, random_state=42)\n",
    "    labels = kmeans.fit_predict(features_gpu.cpu().numpy())  # 将数据从 GPU 转回 CPU 进行处理\n",
    "\n",
    "    centroids = torch.tensor(kmeans.cluster_centers_, dtype=torch.float32, device=device)\n",
    "\n",
    "    with_d, between_d, cluster_score = cluster_eval(features_gpu, labels, optimal_c, centroids)\n",
    "    print(\"features.shape: \", features.shape)\n",
    "    print('类内间距: ', with_d)\n",
    "    print('类外间距: ', between_d)\n",
    "    print('聚类效果评价参数: ', cluster_score)\n",
    "\n",
    "    return kmeans, labels\n",
    "\n",
    "def cluster_eval(data, labels, optimal_c, centroids):\n",
    "    K = optimal_c\n",
    "\n",
    "    # 计算类内间距\n",
    "    within_distances = []\n",
    "    for i in range(K):\n",
    "        cluster_points = data[labels == i]\n",
    "        centroid = centroids[i]\n",
    "\n",
    "        # 计算每个点到中心的距离并求和\n",
    "        distance = torch.sum(torch.norm(cluster_points - centroid, dim=1))  # 使用 PyTorch 的 norm 函数\n",
    "        within_distances.append(distance)\n",
    "\n",
    "    total_within_distance = torch.mean(torch.tensor(within_distances, device=device)).item()\n",
    "\n",
    "    # 计算类外间距\n",
    "    between_distances = []\n",
    "    for i in range(K):\n",
    "        for j in range(i + 1, K):\n",
    "            distance = torch.norm(centroids[i] - centroids[j])  # 计算中心点之间的距离\n",
    "            between_distances.append(distance.item())\n",
    "\n",
    "    total_between_distance = torch.mean(torch.tensor(between_distances, device=device)).item()\n",
    "\n",
    "    cluster_score = total_between_distance / total_within_distance\n",
    "\n",
    "    return total_within_distance, total_between_distance, cluster_score"
   ]
  },
  {
   "cell_type": "code",
   "execution_count": 10,
   "id": "e52dce36-18f9-4412-8349-2d0e7709d69d",
   "metadata": {},
   "outputs": [
    {
     "name": "stdout",
     "output_type": "stream",
     "text": [
      "BGR1x1特征聚类分析:\n"
     ]
    },
    {
     "name": "stderr",
     "output_type": "stream",
     "text": [
      "Calculating optimal C: 100%|█| 14/14 [00:00<00:00, 152.61it/\n"
     ]
    },
    {
     "name": "stdout",
     "output_type": "stream",
     "text": [
      "features.shape:  torch.Size([1250, 3])\n",
      "类内间距:  24632.939453125\n",
      "类外间距:  224.63951110839844\n",
      "聚类效果评价参数:  0.009119476444777282\n",
      "optimal C-value with BGR1x1: 2\n",
      "HSV1x1特征聚类分析:\n"
     ]
    },
    {
     "name": "stderr",
     "output_type": "stream",
     "text": [
      "Calculating optimal C: 100%|█| 14/14 [00:00<00:00, 184.59it/\n"
     ]
    },
    {
     "name": "stdout",
     "output_type": "stream",
     "text": [
      "features.shape:  torch.Size([1250, 3])\n",
      "类内间距:  24632.939453125\n",
      "类外间距:  224.63951110839844\n",
      "聚类效果评价参数:  0.009119476444777282\n",
      "optimal C-value with HSV1x1: 2\n",
      "BGR3x3特征聚类分析:\n"
     ]
    },
    {
     "name": "stderr",
     "output_type": "stream",
     "text": [
      "Calculating optimal C: 100%|█| 14/14 [00:00<00:00, 106.60it/\n"
     ]
    },
    {
     "name": "stdout",
     "output_type": "stream",
     "text": [
      "features.shape:  torch.Size([1250, 27])\n",
      "类内间距:  78595.171875\n",
      "类外间距:  648.260986328125\n",
      "聚类效果评价参数:  0.008248101898156515\n",
      "optimal C-value with BGR3x3: 2\n",
      "HSV3x3特征聚类分析:\n"
     ]
    },
    {
     "name": "stderr",
     "output_type": "stream",
     "text": [
      "Calculating optimal C: 100%|█| 14/14 [00:00<00:00, 130.98it/"
     ]
    },
    {
     "name": "stdout",
     "output_type": "stream",
     "text": [
      "features.shape:  torch.Size([1250, 27])\n",
      "类内间距:  107475.4609375\n",
      "类外间距:  389.54180908203125\n",
      "聚类效果评价参数:  0.0036244720951563144\n",
      "optimal C-value with HSV3x3: 2\n"
     ]
    },
    {
     "name": "stderr",
     "output_type": "stream",
     "text": [
      "\n"
     ]
    }
   ],
   "source": [
    "# 聚类分析\n",
    "print(\"BGR1x1特征聚类分析:\")\n",
    "optimal_c_bgr1x1 = optimal_c_value(features_bgr1x1)\n",
    "kmeans_bgr1x1, labels_bgr1x1 = Kmeans(features_bgr1x1, optimal_c_bgr1x1)\n",
    "print(f\"optimal C-value with BGR1x1: {optimal_c_bgr1x1}\")\n",
    "\n",
    "print(\"HSV1x1特征聚类分析:\")\n",
    "optimal_c_bgr1x1 = optimal_c_value(features_bgr1x1)\n",
    "kmeans_bgr1x1, labels_bgr1x1 = Kmeans(features_bgr1x1, optimal_c_bgr1x1)\n",
    "print(f\"optimal C-value with HSV1x1: {optimal_c_bgr1x1}\")\n",
    "\n",
    "print(\"BGR3x3特征聚类分析:\")\n",
    "optimal_c_bgr3x3 = optimal_c_value(features_bgr3x3)\n",
    "kmeans_bgr3x3, labels_bgr3x3 = Kmeans(features_bgr3x3, optimal_c_bgr3x3)\n",
    "print(f\"optimal C-value with BGR3x3: {optimal_c_bgr3x3}\")\n",
    "\n",
    "print(\"HSV3x3特征聚类分析:\")\n",
    "optimal_c_hsv3x3 = optimal_c_value(features_hsv3x3)\n",
    "kmeans_hsv3x3, labels_hsv3x3 = Kmeans(features_hsv3x3, optimal_c_hsv3x3)\n",
    "print(f\"optimal C-value with HSV3x3: {optimal_c_hsv3x3}\")\n"
   ]
  },
  {
   "cell_type": "code",
   "execution_count": 5,
   "id": "feeaa2f5-c177-4bf0-bd8c-75846bb0cd0f",
   "metadata": {},
   "outputs": [
    {
     "name": "stdout",
     "output_type": "stream",
     "text": [
      "HOG特征聚类分析:\n"
     ]
    },
    {
     "name": "stderr",
     "output_type": "stream",
     "text": [
      "Calculating optimal C: 100%|█| 14/14 [00:00<00:00, 158.87it/\n"
     ]
    },
    {
     "name": "stdout",
     "output_type": "stream",
     "text": [
      "features.shape:  torch.Size([1830, 36])\n",
      "类内间距:  408.5014343261719\n",
      "类外间距:  0.4068683087825775\n",
      "聚类效果评价参数:  0.0009960021546893997\n",
      "optimal C-value with HOG: 2\n"
     ]
    }
   ],
   "source": [
    "print(\"HOG特征聚类分析:\")\n",
    "optimal_c_hog = optimal_c_value(features_hog)\n",
    "kmeans_hog, labels_hog = Kmeans(features_hog, optimal_c_hog)\n",
    "print(f\"optimal C-value with HOG: {optimal_c_resnet}\")"
   ]
  },
  {
   "cell_type": "code",
   "execution_count": 6,
   "id": "ab0aa9df-b709-4dca-a19a-9d9f9d12fa8f",
   "metadata": {},
   "outputs": [
    {
     "name": "stdout",
     "output_type": "stream",
     "text": [
      "GIST特征聚类分析:\n"
     ]
    },
    {
     "name": "stderr",
     "output_type": "stream",
     "text": [
      "Calculating optimal C: 100%|█| 14/14 [00:00<00:00, 214.05it/"
     ]
    },
    {
     "name": "stdout",
     "output_type": "stream",
     "text": [
      "features.shape:  torch.Size([128, 1])\n",
      "类内间距:  607.060791015625\n",
      "类外间距:  34.81443786621094\n",
      "聚类效果评价参数:  0.057349178832593814\n",
      "optimal C-value with GIST: 2\n"
     ]
    },
    {
     "name": "stderr",
     "output_type": "stream",
     "text": [
      "\n"
     ]
    }
   ],
   "source": [
    "print(\"GIST特征聚类分析:\")\n",
    "optimal_c_gist = optimal_c_value(features_gist)\n",
    "kmeans_gist, labels_gist = Kmeans(features_gist, optimal_c_gist)\n",
    "print(f\"optimal C-value with GIST: {optimal_c_gist}\")"
   ]
  },
  {
   "cell_type": "code",
   "execution_count": 7,
   "id": "46346c1f-8e2d-4cc6-a25f-b0c707dad82d",
   "metadata": {},
   "outputs": [
    {
     "name": "stdout",
     "output_type": "stream",
     "text": [
      "PCA特征聚类分析:\n"
     ]
    },
    {
     "name": "stderr",
     "output_type": "stream",
     "text": [
      "Calculating optimal C: 100%|█| 14/14 [00:01<00:00, 12.42it/s\n"
     ]
    },
    {
     "name": "stdout",
     "output_type": "stream",
     "text": [
      "features.shape:  torch.Size([125000, 2])\n",
      "类内间距:  35653.6484375\n",
      "类外间距:  3.252089262008667\n",
      "聚类效果评价参数:  9.121336537856715e-05\n",
      "optimal C-value with Resnet: 2\n"
     ]
    }
   ],
   "source": [
    "print(\"PCA特征聚类分析:\")\n",
    "optimal_c_pca = optimal_c_value(features_pca)\n",
    "kmeans_pca, labels_pca = Kmeans(features_pca, optimal_c_pca)\n",
    "print(f\"optimal C-value with Resnet: {optimal_c_pca}\")"
   ]
  },
  {
   "cell_type": "code",
   "execution_count": 11,
   "id": "fcd44a87-665f-4238-851f-71fc40f631f0",
   "metadata": {},
   "outputs": [
    {
     "name": "stdout",
     "output_type": "stream",
     "text": [
      "ResNet特征聚类分析:\n"
     ]
    },
    {
     "name": "stderr",
     "output_type": "stream",
     "text": [
      "Calculating optimal C: 100%|█| 14/14 [00:00<00:00, 154.47it/"
     ]
    },
    {
     "name": "stdout",
     "output_type": "stream",
     "text": [
      "features.shape:  torch.Size([512, 1])\n",
      "类内间距:  68.05752563476562\n",
      "类外间距:  1.6752053499221802\n",
      "聚类效果评价参数:  0.02461454974005755\n",
      "optimal C-value with Resnet: 2\n"
     ]
    },
    {
     "name": "stderr",
     "output_type": "stream",
     "text": [
      "\n"
     ]
    }
   ],
   "source": [
    "print(\"ResNet特征聚类分析:\")\n",
    "optimal_c_resnet = optimal_c_value(features_resnet)\n",
    "kmeans_resnet, labels_resnet = Kmeans(features_resnet, optimal_c_resnet)\n",
    "print(f\"optimal C-value with Resnet: {optimal_c_resnet}\")"
   ]
  },
  {
   "cell_type": "code",
   "execution_count": null,
   "id": "bcee0cbc-2a14-457a-ad30-512f0df7102a",
   "metadata": {},
   "outputs": [],
   "source": []
  }
 ],
 "metadata": {
  "kernelspec": {
   "display_name": "Python 3 (ipykernel)",
   "language": "python",
   "name": "python3"
  },
  "language_info": {
   "codemirror_mode": {
    "name": "ipython",
    "version": 3
   },
   "file_extension": ".py",
   "mimetype": "text/x-python",
   "name": "python",
   "nbconvert_exporter": "python",
   "pygments_lexer": "ipython3",
   "version": "3.9.20"
  }
 },
 "nbformat": 4,
 "nbformat_minor": 5
}
